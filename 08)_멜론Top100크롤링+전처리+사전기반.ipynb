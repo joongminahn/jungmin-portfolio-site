{
  "cells": [
    {
      "cell_type": "code",
      "execution_count": null,
      "metadata": {
        "id": "q3R48LvZGZFk"
      },
      "outputs": [],
      "source": [
        "from bs4 import BeautifulSoup\n",
        "from selenium import webdriver\n",
        "from selenium.webdriver.common.by import By\n",
        "\n",
        "import re\n",
        "import pandas as pd\n",
        "import time\n",
        "import requests"
      ]
    },
    {
      "cell_type": "markdown",
      "metadata": {
        "id": "mde1eapBGZFn"
      },
      "source": [
        "## 멜론Top100크롤링"
      ]
    },
    {
      "cell_type": "code",
      "execution_count": null,
      "metadata": {
        "id": "ghGcIPSbGZFo"
      },
      "outputs": [],
      "source": [
        "top100_number=[]"
      ]
    },
    {
      "cell_type": "code",
      "execution_count": null,
      "metadata": {
        "id": "la7FW_2SGZFo"
      },
      "outputs": [],
      "source": [
        "driver = webdriver.Chrome()\n",
        "driver.get(\"https://www.melon.com/chart/index.htm\")\n",
        "html=driver.page_source\n",
        "soup=BeautifulSoup(html,'html.parser')\n",
        "\n",
        "songs=soup.select('div.wrap > a.btn.button_icons.type03.song_info')\n",
        "for i in range(len(songs)):\n",
        "        href=songs[i].attrs['href']\n",
        "        top100_number.append(re.sub('[^0-9]','',href))"
      ]
    },
    {
      "cell_type": "code",
      "execution_count": null,
      "metadata": {
        "id": "8zyZsCDeGZFp",
        "outputId": "cff0a550-666e-4d0b-bbb2-bdf802e4ce77"
      },
      "outputs": [
        {
          "data": {
            "text/plain": [
              "100"
            ]
          },
          "execution_count": 82,
          "metadata": {},
          "output_type": "execute_result"
        }
      ],
      "source": [
        "len(top100_number)"
      ]
    },
    {
      "cell_type": "code",
      "execution_count": null,
      "metadata": {
        "id": "mHr-AM6uGZFq"
      },
      "outputs": [],
      "source": [
        "driver=webdriver.Chrome()\n",
        "lyric_lst=[]\n",
        "cnt=0\n",
        "for i in top100_number:\n",
        "    url=\"https://www.melon.com/song/detail.htm?songId=\"+i\n",
        "    headers={'user-agent':'Mozilla/5.0 (Windows NT 10.0; Win64; x64) AppleWebKit/537.36 (KHTML, like Gecko) Chrome/109.0.0.0 Safari/537.36'}\n",
        "    r=requests.get(url,headers=headers)\n",
        "    soup=BeautifulSoup(r.text,'html.parser')\n",
        "    try:\n",
        "        lyric_lst.append(soup.select('div.lyric')[0].text)\n",
        "    except:\n",
        "        cnt+=1\n",
        "    time.sleep(2)"
      ]
    },
    {
      "cell_type": "code",
      "execution_count": null,
      "metadata": {
        "id": "ieb0JNMCGZFq",
        "outputId": "71d62bc7-d78d-4397-f32c-25a9f19d6451"
      },
      "outputs": [
        {
          "data": {
            "text/plain": [
              "100"
            ]
          },
          "execution_count": 84,
          "metadata": {},
          "output_type": "execute_result"
        }
      ],
      "source": [
        "len(lyric_lst)"
      ]
    },
    {
      "cell_type": "code",
      "execution_count": null,
      "metadata": {
        "id": "mPCytZnaGZFq"
      },
      "outputs": [],
      "source": [
        "top100_title=[]\n",
        "top100_singer=[]\n",
        "driver = webdriver.Chrome()\n",
        "url='https://www.melon.com/chart/index.htm'\n",
        "headers={'user-agent':'Mozilla/5.0 (Windows NT 10.0; Win64; x64) AppleWebKit/537.36 (KHTML, like Gecko) Chrome/109.0.0.0 Safari/537.36'}\n",
        "r=requests.get(url,headers=headers)\n",
        "soup=BeautifulSoup(r.text,'html.parser')\n",
        "\n",
        "for i in range(0,100):\n",
        "    title=soup.select('div.ellipsis.rank01')[i].text\n",
        "    top100_title.append(re.sub('\\n','',title))\n",
        "    singer=soup.select('div.ellipsis.rank02')[i].text\n",
        "    singer=re.sub('\\n','',singer)\n",
        "    top100_singer.append(singer[:int(len(singer)/2)])"
      ]
    },
    {
      "cell_type": "code",
      "execution_count": null,
      "metadata": {
        "id": "Vwfhw8SPGZFr",
        "outputId": "5e6b60e4-f1de-435b-c159-f9258b3d730e"
      },
      "outputs": [
        {
          "name": "stdout",
          "output_type": "stream",
          "text": [
            "100 100\n"
          ]
        }
      ],
      "source": [
        "print(len(top100_singer),len(top100_title))"
      ]
    },
    {
      "cell_type": "code",
      "execution_count": null,
      "metadata": {
        "id": "aH6qsSlSGZFr"
      },
      "outputs": [],
      "source": [
        "top100=pd.DataFrame({'singer':top100_singer,\n",
        "                    'title':top100_title,\n",
        "                    'lyrics':lyric_lst})\n",
        "top100.to_csv('./data/top100.csv',encoding='utf-8-sig',index=False)"
      ]
    },
    {
      "cell_type": "code",
      "execution_count": null,
      "metadata": {
        "id": "GfW9K1_sGZFs"
      },
      "outputs": [],
      "source": [
        "top30=pd.DataFrame({'singer':top100_singer[:30],\n",
        "                    'title':top100_title[:30],\n",
        "                    'lyrics':lyric_lst[:30]})"
      ]
    },
    {
      "cell_type": "code",
      "execution_count": null,
      "metadata": {
        "id": "pEPj6JYfGZFs"
      },
      "outputs": [],
      "source": [
        "top30.to_csv('./data/top30.csv',encoding='utf-8-sig',index=False)"
      ]
    },
    {
      "cell_type": "markdown",
      "metadata": {
        "id": "vEOTHLYnGZFs"
      },
      "source": [
        "## 전처리과정\n",
        "번역"
      ]
    },
    {
      "cell_type": "code",
      "execution_count": null,
      "metadata": {
        "id": "CStWtUDYGZFt"
      },
      "outputs": [],
      "source": [
        "import pandas as pd\n",
        "import numpy as np\n",
        "import re\n",
        "import seaborn as sns\n",
        "import os\n",
        "import sys\n",
        "import urllib.request\n",
        "import requests\n",
        "import time\n",
        "import nltk\n",
        "\n",
        "import googletrans\n",
        "from sklearn.model_selection import train_test_split"
      ]
    },
    {
      "cell_type": "code",
      "execution_count": null,
      "metadata": {
        "id": "DkAGJUDqGZFt"
      },
      "outputs": [],
      "source": [
        "def checkKorean(str):\n",
        "    pattern = '[ㄱ-ㅎ가-힣\\s]+'\n",
        "    if re.match(pattern, str):\n",
        "        return True\n",
        "    else:\n",
        "        return False"
      ]
    },
    {
      "cell_type": "code",
      "execution_count": null,
      "metadata": {
        "id": "mg_FkUdxGZFt",
        "outputId": "97362afa-8353-4847-d813-ec7c65c4c59a"
      },
      "outputs": [
        {
          "data": {
            "text/plain": [
              "30"
            ]
          },
          "execution_count": 94,
          "metadata": {},
          "output_type": "execute_result"
        }
      ],
      "source": [
        "translator=googletrans.Translator()\n",
        "trans=[]\n",
        "for i,lyric in enumerate(top30['lyrics']):\n",
        "    split_sentences = re.compile(\"[ㄱ-ㅎ가-힣\\s]+|[a-zA-Z\\s']+\").findall(lyric)\n",
        "    sen=''\n",
        "    for sentence in split_sentences:\n",
        "        check=checkKorean(sentence)\n",
        "        if not check:\n",
        "            try:\n",
        "                en2ko=translator.translate(sentence,dest='ko',src='en')\n",
        "                sen+=en2ko.text\n",
        "            except:\n",
        "                sen+=sentence\n",
        "        else:\n",
        "            sen+=sentence\n",
        "    trans.append(sen)\n",
        "len(trans)"
      ]
    },
    {
      "cell_type": "code",
      "execution_count": null,
      "metadata": {
        "id": "SLtevU0RGZFt",
        "outputId": "06d36f36-27b2-40b4-94d1-95934e2cfb51"
      },
      "outputs": [
        {
          "data": {
            "text/plain": [
              "'우우 우 우우 우 우우 우 우 우스 테이에서 미들 같은 넌 수수께끼를 원하지 않습니다말해줘 백로라고 말하면 라고 말합니다아침은 너무 멀어그러니 라고 말합니다훌쩍 커버렸어함께한 기억처럼널 보는 내 마음은어느새 여름 지나 가을기다렸지 이 모든 시간에 내가 원하는 사람처럼 누군가를 원해 날 보고 웃었지만당신은 지금 나에 대해 생각하십니까 그래 항상 그래야 할 시간이 없어서 잃을 시간이 없었어내 길었던 하루난 보고 싶어 고마워고마워고마워울린 심장 고마워고마워고마워나는 잃을 것이 없다널 좋아한다고우 우아 우아라고마워고마워고마워울린 심장 고마워고마워고마워하지만 난 너처럼 가운데에 머물고 싶지 않아수수께끼를 원하지 않습니다말해줘 백로라고 말하면 라고 말합니다아침은 너무 멀어그러니 내가 이것을 걷고 싶지 않아미로다 아는 건 아니어도바라던 대로말해줘 백로가 가 당신을 원한다고 말합니다 당신이 누구에게나 이라고 말하기를 원합니다너를 상상했지항상 닿아있던처음 느낌 그대로 난기다렸지 이 모든 시간에 나는 잃을 것이 없었다널 좋아한다고우 우아 우아라고마워고마워고마워울린 심장 고마워고마워고마워하지만 난 너처럼 가운데에 머물고 싶지 않아수수께끼를 원하지 않습니다말해줘 백로라고 말하면 라고 말합니다아침은 너무 멀어그러니 내가 이것을 걷고 싶지 않아미로다 아는 건 아니어도바라던 대로말해줘 백로가 가 당신을 원한다고 말합니다'"
            ]
          },
          "execution_count": 95,
          "metadata": {},
          "output_type": "execute_result"
        }
      ],
      "source": [
        "lyrics=[]\n",
        "for lyric in trans:\n",
        "    sub=re.sub(\"[0-9a-zA-Z'.,?!()&^%$#\\t\\r\\n\\\\s]+\",' ',lyric)\n",
        "    sub=sub.strip()\n",
        "    lyrics.append(re.sub(' +', ' ', sub))\n",
        "lyrics[0]"
      ]
    },
    {
      "cell_type": "code",
      "execution_count": null,
      "metadata": {
        "id": "ggdGGCN6GZFt"
      },
      "outputs": [],
      "source": [
        "top30['lyrics']=lyrics"
      ]
    },
    {
      "cell_type": "code",
      "execution_count": null,
      "metadata": {
        "id": "9LS2SxmrGZFu",
        "outputId": "fcff721d-a73e-41d4-ef96-a1b74ad3cda8"
      },
      "outputs": [
        {
          "data": {
            "text/html": [
              "<div>\n",
              "<style scoped>\n",
              "    .dataframe tbody tr th:only-of-type {\n",
              "        vertical-align: middle;\n",
              "    }\n",
              "\n",
              "    .dataframe tbody tr th {\n",
              "        vertical-align: top;\n",
              "    }\n",
              "\n",
              "    .dataframe thead th {\n",
              "        text-align: right;\n",
              "    }\n",
              "</style>\n",
              "<table border=\"1\" class=\"dataframe\">\n",
              "  <thead>\n",
              "    <tr style=\"text-align: right;\">\n",
              "      <th></th>\n",
              "      <th>singer</th>\n",
              "      <th>title</th>\n",
              "      <th>lyrics</th>\n",
              "    </tr>\n",
              "  </thead>\n",
              "  <tbody>\n",
              "    <tr>\n",
              "      <th>0</th>\n",
              "      <td>NewJeans</td>\n",
              "      <td>Ditto</td>\n",
              "      <td>우우 우 우우 우 우우 우 우 우스 테이에서 미들 같은 넌 수수께끼를 원하지 않습니...</td>\n",
              "    </tr>\n",
              "    <tr>\n",
              "      <th>1</th>\n",
              "      <td>NewJeans</td>\n",
              "      <td>OMG</td>\n",
              "      <td>이 노래는 그것당신에 대해 아가비 만만 너희 너 내가 힘들 때울 것 같을 때기운도 ...</td>\n",
              "    </tr>\n",
              "    <tr>\n",
              "      <th>2</th>\n",
              "      <td>NewJeans</td>\n",
              "      <td>Hype boy</td>\n",
              "      <td>아기 내가 너무 미쳤다빠져버리는 은 내가 당신을 느끼게했습니다너도 말해줄래누가 내게...</td>\n",
              "    </tr>\n",
              "    <tr>\n",
              "      <th>3</th>\n",
              "      <td>태양</td>\n",
              "      <td>VIBE (feat. Jimin of BTS)</td>\n",
              "      <td>말론 표현할 수 없지만소녀 당신은 당신이 그 분위기를 가지고 있다는 것을 알아야합니...</td>\n",
              "    </tr>\n",
              "    <tr>\n",
              "      <th>4</th>\n",
              "      <td>윤하 (YOUNHA)</td>\n",
              "      <td>사건의 지평선</td>\n",
              "      <td>생각이 많은 건 말이야당연히 해야 할 일이야나에겐 우리가 지금 순위야안전한 유리병을...</td>\n",
              "    </tr>\n",
              "  </tbody>\n",
              "</table>\n",
              "</div>"
            ],
            "text/plain": [
              "        singer                      title  \\\n",
              "0     NewJeans                      Ditto   \n",
              "1     NewJeans                        OMG   \n",
              "2     NewJeans                   Hype boy   \n",
              "3           태양  VIBE (feat. Jimin of BTS)   \n",
              "4  윤하 (YOUNHA)                    사건의 지평선   \n",
              "\n",
              "                                              lyrics  \n",
              "0  우우 우 우우 우 우우 우 우 우스 테이에서 미들 같은 넌 수수께끼를 원하지 않습니...  \n",
              "1  이 노래는 그것당신에 대해 아가비 만만 너희 너 내가 힘들 때울 것 같을 때기운도 ...  \n",
              "2  아기 내가 너무 미쳤다빠져버리는 은 내가 당신을 느끼게했습니다너도 말해줄래누가 내게...  \n",
              "3  말론 표현할 수 없지만소녀 당신은 당신이 그 분위기를 가지고 있다는 것을 알아야합니...  \n",
              "4  생각이 많은 건 말이야당연히 해야 할 일이야나에겐 우리가 지금 순위야안전한 유리병을...  "
            ]
          },
          "execution_count": 108,
          "metadata": {},
          "output_type": "execute_result"
        }
      ],
      "source": [
        "top30.head()"
      ]
    },
    {
      "cell_type": "markdown",
      "metadata": {
        "id": "k_wZamyIGZFu"
      },
      "source": [
        "맞춤법 교정"
      ]
    },
    {
      "cell_type": "code",
      "execution_count": null,
      "metadata": {
        "id": "cVM9kbLGGZFu"
      },
      "outputs": [],
      "source": [
        "import pandas as pd\n",
        "import numpy as np\n",
        "import matplotlib.pyplot as plt\n",
        "import seaborn as sns\n",
        "import re\n",
        "\n",
        "%matplotlib inline\n",
        "\n",
        "from wordcloud import WordCloud\n",
        "from konlpy.tag import Okt\n",
        "from hanspell import spell_checker\n",
        "\n",
        "from soynlp.normalizer import *\n",
        "import urllib.request\n",
        "from soyspacing.countbase import CountSpace,RuleDict\n",
        "import soyspacing"
      ]
    },
    {
      "cell_type": "code",
      "execution_count": null,
      "metadata": {
        "id": "D7kjHfp7GZFu",
        "outputId": "08be9a50-9756-4202-a684-c62376082a6a"
      },
      "outputs": [
        {
          "data": {
            "text/plain": [
              "30"
            ]
          },
          "execution_count": 103,
          "metadata": {},
          "output_type": "execute_result"
        }
      ],
      "source": [
        "lyrics=[]\n",
        "for lyric in top30['lyrics']:\n",
        "    lyrics.append(repeat_normalize(lyric,num_repeats=1))\n",
        "len(lyrics)"
      ]
    },
    {
      "cell_type": "code",
      "execution_count": null,
      "metadata": {
        "id": "KQ1U2SeZGZFu",
        "outputId": "d336e12b-7ec5-4543-bd5e-336d1f67d9db"
      },
      "outputs": [
        {
          "name": "stdout",
          "output_type": "stream",
          "text": [
            "all tags length = 1909391 --> 1671744, (num_doc = 30090))"
          ]
        }
      ],
      "source": [
        "urllib.request.urlretrieve(\"https://raw.githubusercontent.com/lovit/soynlp/master/tutorials/2016-10-20.txt\", filename=\"2016-10-20.txt\")\n",
        "model=CountSpace()\n",
        "model.train('./2016-10-20.txt')"
      ]
    },
    {
      "cell_type": "code",
      "execution_count": null,
      "metadata": {
        "id": "n9xtzJn9GZFv",
        "outputId": "22178711-9c6a-4d8f-a66b-9e8ef3590e47"
      },
      "outputs": [
        {
          "data": {
            "text/plain": [
              "30"
            ]
          },
          "execution_count": 105,
          "metadata": {},
          "output_type": "execute_result"
        }
      ],
      "source": [
        "result=[]\n",
        "for lyric in lyrics:\n",
        "    sub,tags=model.correct(lyric,verbose=False,force_abs_threshold=0.3,nonspace_threshold=-0.3,space_threshold=0.3,min_count=10)\n",
        "    result.append(sub)\n",
        "len(result)"
      ]
    },
    {
      "cell_type": "code",
      "execution_count": null,
      "metadata": {
        "id": "OxSb2l7qGZFv"
      },
      "outputs": [],
      "source": [
        "lyrics=[]\n",
        "cnt=0\n",
        "error=0\n",
        "for i,lyric in enumerate(result):\n",
        "    try:\n",
        "        if len(lyric)>500:\n",
        "            sub=''\n",
        "            spelled_sent = spell_checker.check(lyric[:500])\n",
        "            spelled_sent=spelled_sent.as_dict()\n",
        "            sub+=spelled_sent['checked']\n",
        "            \n",
        "            spelled_sent = spell_checker.check(lyric[500:])\n",
        "            spelled_sent=spelled_sent.as_dict()\n",
        "            sub+=spelled_sent['checked']\n",
        "            \n",
        "            lyrics.append(sub)\n",
        "\n",
        "        else:\n",
        "            spelled_sent=spell_checker.check(lyric)\n",
        "            spelled_sent=spelled_sent.as_dict()\n",
        "            lyrics.append(spelled_sent['checked'])\n",
        "    except:\n",
        "        lyrics.append(lyric)\n",
        "        error+=1\n",
        "    cnt+=1\n",
        "    if cnt%100==0:\n",
        "        print(cnt)"
      ]
    },
    {
      "cell_type": "code",
      "execution_count": null,
      "metadata": {
        "id": "wVoHAyxLGZFv",
        "outputId": "cd8660b4-33ea-42fc-a1e4-0ae21d73a00a"
      },
      "outputs": [
        {
          "data": {
            "text/plain": [
              "30"
            ]
          },
          "execution_count": 107,
          "metadata": {},
          "output_type": "execute_result"
        }
      ],
      "source": [
        "result=[]\n",
        "for lyric in lyrics:\n",
        "    result.append(repeat_normalize(lyric,num_repeats=1))\n",
        "len(result)"
      ]
    },
    {
      "cell_type": "code",
      "execution_count": null,
      "metadata": {
        "id": "S2KOTBfoGZFv",
        "outputId": "f86d7c8a-76cd-4eb8-f6a7-9fa8797e9011"
      },
      "outputs": [
        {
          "data": {
            "text/html": [
              "<div>\n",
              "<style scoped>\n",
              "    .dataframe tbody tr th:only-of-type {\n",
              "        vertical-align: middle;\n",
              "    }\n",
              "\n",
              "    .dataframe tbody tr th {\n",
              "        vertical-align: top;\n",
              "    }\n",
              "\n",
              "    .dataframe thead th {\n",
              "        text-align: right;\n",
              "    }\n",
              "</style>\n",
              "<table border=\"1\" class=\"dataframe\">\n",
              "  <thead>\n",
              "    <tr style=\"text-align: right;\">\n",
              "      <th></th>\n",
              "      <th>singer</th>\n",
              "      <th>title</th>\n",
              "      <th>lyrics</th>\n",
              "    </tr>\n",
              "  </thead>\n",
              "  <tbody>\n",
              "    <tr>\n",
              "      <th>0</th>\n",
              "      <td>NewJeans</td>\n",
              "      <td>Ditto</td>\n",
              "      <td>우우 우 우우 우 우우 우 우 우스 테이에서 미들 같은 넌 수수께끼를 원하지 않습니...</td>\n",
              "    </tr>\n",
              "    <tr>\n",
              "      <th>1</th>\n",
              "      <td>NewJeans</td>\n",
              "      <td>OMG</td>\n",
              "      <td>이 노래는 그것 당신에 대해 아이비 만만 너희 너 내가 힘들 때울 것 같을 때 기운...</td>\n",
              "    </tr>\n",
              "    <tr>\n",
              "      <th>2</th>\n",
              "      <td>NewJeans</td>\n",
              "      <td>Hype boy</td>\n",
              "      <td>아기 내가 너무 미쳤다 빠져버리는 은 내가 당신을 느끼게 했습니다 너도 말해줄래 누...</td>\n",
              "    </tr>\n",
              "    <tr>\n",
              "      <th>3</th>\n",
              "      <td>태양</td>\n",
              "      <td>VIBE (feat. Jimin of BTS)</td>\n",
              "      <td>말론 표현할 수 없지만 소녀 당신은 당신이 그 분위기를 가지고 있다는 것을 알아야 ...</td>\n",
              "    </tr>\n",
              "    <tr>\n",
              "      <th>4</th>\n",
              "      <td>윤하 (YOUNHA)</td>\n",
              "      <td>사건의 지평선</td>\n",
              "      <td>생각이 많은 건 말이야 당연히 해야 할 일이야 나에겐 우리가 지금 순위야 안전한 유...</td>\n",
              "    </tr>\n",
              "  </tbody>\n",
              "</table>\n",
              "</div>"
            ],
            "text/plain": [
              "        singer                      title  \\\n",
              "0     NewJeans                      Ditto   \n",
              "1     NewJeans                        OMG   \n",
              "2     NewJeans                   Hype boy   \n",
              "3           태양  VIBE (feat. Jimin of BTS)   \n",
              "4  윤하 (YOUNHA)                    사건의 지평선   \n",
              "\n",
              "                                              lyrics  \n",
              "0  우우 우 우우 우 우우 우 우 우스 테이에서 미들 같은 넌 수수께끼를 원하지 않습니...  \n",
              "1  이 노래는 그것 당신에 대해 아이비 만만 너희 너 내가 힘들 때울 것 같을 때 기운...  \n",
              "2  아기 내가 너무 미쳤다 빠져버리는 은 내가 당신을 느끼게 했습니다 너도 말해줄래 누...  \n",
              "3  말론 표현할 수 없지만 소녀 당신은 당신이 그 분위기를 가지고 있다는 것을 알아야 ...  \n",
              "4  생각이 많은 건 말이야 당연히 해야 할 일이야 나에겐 우리가 지금 순위야 안전한 유...  "
            ]
          },
          "execution_count": 111,
          "metadata": {},
          "output_type": "execute_result"
        }
      ],
      "source": [
        "top30['lyrics']=result\n",
        "top30.head()"
      ]
    },
    {
      "cell_type": "markdown",
      "metadata": {
        "id": "TlJUUJv2GZFv"
      },
      "source": [
        "중복단어제거"
      ]
    },
    {
      "cell_type": "code",
      "execution_count": null,
      "metadata": {
        "id": "I3fPgqGWGZFw",
        "outputId": "54f8f5ce-e042-4364-aa7a-20568040abce"
      },
      "outputs": [
        {
          "name": "stdout",
          "output_type": "stream",
          "text": [
            "30\n"
          ]
        }
      ],
      "source": [
        "lst=[]\n",
        "for lyrics in top30['lyrics']:\n",
        "    lyric=lyrics.split(' ')\n",
        "    sub=[]\n",
        "    for word in lyric:\n",
        "        if word not in sub or sub.count(word)<3:\n",
        "            sub.append(word)\n",
        "    lst.append(sub)\n",
        "print(len(lst))"
      ]
    },
    {
      "cell_type": "code",
      "execution_count": null,
      "metadata": {
        "id": "UIQHdMj_GZFw",
        "outputId": "ac1ac288-076c-4f46-8bb5-49dc1d0c0abc"
      },
      "outputs": [
        {
          "name": "stdout",
          "output_type": "stream",
          "text": [
            "30\n"
          ]
        }
      ],
      "source": [
        "lyrics=[]\n",
        "for word_lst in lst:\n",
        "    sen=''\n",
        "    sen=' '.join(word_lst)\n",
        "    lyrics.append(sen)\n",
        "print(len(lyrics))"
      ]
    },
    {
      "cell_type": "code",
      "execution_count": null,
      "metadata": {
        "id": "0NJcAaElGZFw",
        "outputId": "23b50f90-2aa2-4390-92c1-dd28a7396c6a"
      },
      "outputs": [
        {
          "data": {
            "text/html": [
              "<div>\n",
              "<style scoped>\n",
              "    .dataframe tbody tr th:only-of-type {\n",
              "        vertical-align: middle;\n",
              "    }\n",
              "\n",
              "    .dataframe tbody tr th {\n",
              "        vertical-align: top;\n",
              "    }\n",
              "\n",
              "    .dataframe thead th {\n",
              "        text-align: right;\n",
              "    }\n",
              "</style>\n",
              "<table border=\"1\" class=\"dataframe\">\n",
              "  <thead>\n",
              "    <tr style=\"text-align: right;\">\n",
              "      <th></th>\n",
              "      <th>singer</th>\n",
              "      <th>title</th>\n",
              "      <th>lyrics</th>\n",
              "    </tr>\n",
              "  </thead>\n",
              "  <tbody>\n",
              "    <tr>\n",
              "      <th>0</th>\n",
              "      <td>NewJeans</td>\n",
              "      <td>Ditto</td>\n",
              "      <td>우우 우 우우 우 우우 우 우스 테이에서 미들 같은 넌 수수께끼를 원하지 않습니다 ...</td>\n",
              "    </tr>\n",
              "    <tr>\n",
              "      <th>1</th>\n",
              "      <td>NewJeans</td>\n",
              "      <td>OMG</td>\n",
              "      <td>이 노래는 그것 당신에 대해 아이비 만만 너희 너 내가 힘들 때울 것 같을 때 기운...</td>\n",
              "    </tr>\n",
              "    <tr>\n",
              "      <th>2</th>\n",
              "      <td>NewJeans</td>\n",
              "      <td>Hype boy</td>\n",
              "      <td>아기 내가 너무 미쳤다 빠져버리는 은 내가 당신을 느끼게 했습니다 너도 말해줄래 누...</td>\n",
              "    </tr>\n",
              "    <tr>\n",
              "      <th>3</th>\n",
              "      <td>태양</td>\n",
              "      <td>VIBE (feat. Jimin of BTS)</td>\n",
              "      <td>말론 표현할 수 없지만 소녀 당신은 당신이 그 분위기를 가지고 있다는 것을 알아야 ...</td>\n",
              "    </tr>\n",
              "    <tr>\n",
              "      <th>4</th>\n",
              "      <td>윤하 (YOUNHA)</td>\n",
              "      <td>사건의 지평선</td>\n",
              "      <td>생각이 많은 건 말이야 당연히 해야 할 일이야 나에겐 우리가 지금 순위야 안전한 유...</td>\n",
              "    </tr>\n",
              "  </tbody>\n",
              "</table>\n",
              "</div>"
            ],
            "text/plain": [
              "        singer                      title  \\\n",
              "0     NewJeans                      Ditto   \n",
              "1     NewJeans                        OMG   \n",
              "2     NewJeans                   Hype boy   \n",
              "3           태양  VIBE (feat. Jimin of BTS)   \n",
              "4  윤하 (YOUNHA)                    사건의 지평선   \n",
              "\n",
              "                                              lyrics  \n",
              "0  우우 우 우우 우 우우 우 우스 테이에서 미들 같은 넌 수수께끼를 원하지 않습니다 ...  \n",
              "1  이 노래는 그것 당신에 대해 아이비 만만 너희 너 내가 힘들 때울 것 같을 때 기운...  \n",
              "2  아기 내가 너무 미쳤다 빠져버리는 은 내가 당신을 느끼게 했습니다 너도 말해줄래 누...  \n",
              "3  말론 표현할 수 없지만 소녀 당신은 당신이 그 분위기를 가지고 있다는 것을 알아야 ...  \n",
              "4  생각이 많은 건 말이야 당연히 해야 할 일이야 나에겐 우리가 지금 순위야 안전한 유...  "
            ]
          },
          "execution_count": 115,
          "metadata": {},
          "output_type": "execute_result"
        }
      ],
      "source": [
        "top30['lyrics']=lyrics\n",
        "top30.head()"
      ]
    },
    {
      "cell_type": "markdown",
      "metadata": {
        "id": "JP1y6LKIGZFw"
      },
      "source": [
        "불용어제거"
      ]
    },
    {
      "cell_type": "code",
      "execution_count": null,
      "metadata": {
        "id": "ujEEWm2UGZFw"
      },
      "outputs": [],
      "source": [
        "f = open(\"stopword.txt\", \"rt\",encoding='utf-8')\n",
        "stopword = []\n",
        "while True:\n",
        "    line = f.readline().strip()\n",
        "    if not line: break\n",
        "    stopword.append(line)"
      ]
    },
    {
      "cell_type": "code",
      "execution_count": null,
      "metadata": {
        "id": "V2mttkYRGZFw",
        "outputId": "ab99a62f-29ba-45b3-f6f5-d404175b601d"
      },
      "outputs": [
        {
          "name": "stdout",
          "output_type": "stream",
          "text": [
            "30\n"
          ]
        }
      ],
      "source": [
        "lst=[]\n",
        "for lyric in top30['lyrics']:\n",
        "    lyric=lyric.split(' ')\n",
        "    sub=[]\n",
        "\n",
        "    sub=[word for word in lyric if not word in stopword]\n",
        "    lst.append(sub)\n",
        "print(len(lst))"
      ]
    },
    {
      "cell_type": "code",
      "execution_count": null,
      "metadata": {
        "id": "ZU2NDAP8GZFx",
        "outputId": "24b29c18-7ded-477d-e86a-e04d4b4279f6"
      },
      "outputs": [
        {
          "name": "stdout",
          "output_type": "stream",
          "text": [
            "30\n"
          ]
        }
      ],
      "source": [
        "lyrics=[]\n",
        "for word_lst in lst:\n",
        "    sen=''\n",
        "    sen=' '.join(word_lst)\n",
        "    lyrics.append(sen)\n",
        "print(len(lyrics))"
      ]
    },
    {
      "cell_type": "code",
      "execution_count": null,
      "metadata": {
        "id": "Mv0Y55HJGZFx",
        "outputId": "c676b221-835f-4742-9965-98b37bfdf5a4"
      },
      "outputs": [
        {
          "data": {
            "text/html": [
              "<div>\n",
              "<style scoped>\n",
              "    .dataframe tbody tr th:only-of-type {\n",
              "        vertical-align: middle;\n",
              "    }\n",
              "\n",
              "    .dataframe tbody tr th {\n",
              "        vertical-align: top;\n",
              "    }\n",
              "\n",
              "    .dataframe thead th {\n",
              "        text-align: right;\n",
              "    }\n",
              "</style>\n",
              "<table border=\"1\" class=\"dataframe\">\n",
              "  <thead>\n",
              "    <tr style=\"text-align: right;\">\n",
              "      <th></th>\n",
              "      <th>singer</th>\n",
              "      <th>title</th>\n",
              "      <th>lyrics</th>\n",
              "    </tr>\n",
              "  </thead>\n",
              "  <tbody>\n",
              "    <tr>\n",
              "      <th>0</th>\n",
              "      <td>NewJeans</td>\n",
              "      <td>Ditto</td>\n",
              "      <td>우스 테이에서 미들 수수께끼를 원하지 않습니다 말해줘 백로라고 말하면 하고 말합니다...</td>\n",
              "    </tr>\n",
              "    <tr>\n",
              "      <th>1</th>\n",
              "      <td>NewJeans</td>\n",
              "      <td>OMG</td>\n",
              "      <td>노래는 그것 당신에 대해 아이비 만만 힘들 때울 같을 기운도 나지 않을 그것 걱정하...</td>\n",
              "    </tr>\n",
              "    <tr>\n",
              "      <th>2</th>\n",
              "      <td>NewJeans</td>\n",
              "      <td>Hype boy</td>\n",
              "      <td>아기 미쳤다 빠져버리는 은 당신을 느끼게 했습니다 너도 말해줄래 누가 뭐라 든 남들...</td>\n",
              "    </tr>\n",
              "    <tr>\n",
              "      <th>3</th>\n",
              "      <td>태양</td>\n",
              "      <td>VIBE (feat. Jimin of BTS)</td>\n",
              "      <td>말론 표현할 수 없지만 소녀 분위기를 가지고 있다는 것을 알아야 합니다에 미소는 미...</td>\n",
              "    </tr>\n",
              "    <tr>\n",
              "      <th>4</th>\n",
              "      <td>윤하 (YOUNHA)</td>\n",
              "      <td>사건의 지평선</td>\n",
              "      <td>생각이 많은 건 말이야 당연히 해야 할 일이야 나에겐 우리가 순위야 안전한 유리병을...</td>\n",
              "    </tr>\n",
              "  </tbody>\n",
              "</table>\n",
              "</div>"
            ],
            "text/plain": [
              "        singer                      title  \\\n",
              "0     NewJeans                      Ditto   \n",
              "1     NewJeans                        OMG   \n",
              "2     NewJeans                   Hype boy   \n",
              "3           태양  VIBE (feat. Jimin of BTS)   \n",
              "4  윤하 (YOUNHA)                    사건의 지평선   \n",
              "\n",
              "                                              lyrics  \n",
              "0  우스 테이에서 미들 수수께끼를 원하지 않습니다 말해줘 백로라고 말하면 하고 말합니다...  \n",
              "1  노래는 그것 당신에 대해 아이비 만만 힘들 때울 같을 기운도 나지 않을 그것 걱정하...  \n",
              "2  아기 미쳤다 빠져버리는 은 당신을 느끼게 했습니다 너도 말해줄래 누가 뭐라 든 남들...  \n",
              "3  말론 표현할 수 없지만 소녀 분위기를 가지고 있다는 것을 알아야 합니다에 미소는 미...  \n",
              "4  생각이 많은 건 말이야 당연히 해야 할 일이야 나에겐 우리가 순위야 안전한 유리병을...  "
            ]
          },
          "execution_count": 120,
          "metadata": {},
          "output_type": "execute_result"
        }
      ],
      "source": [
        "top30['lyrics']=lyrics\n",
        "top30.head()"
      ]
    },
    {
      "cell_type": "code",
      "execution_count": null,
      "metadata": {
        "id": "szoUYQfYGZFx"
      },
      "outputs": [],
      "source": [
        "top30.to_csv('./data/top30_pre.csv',encoding='utf-8-sig',index=False)"
      ]
    },
    {
      "cell_type": "markdown",
      "metadata": {
        "id": "NHfm5o-bGZFx"
      },
      "source": [
        "## 사전기반\n",
        "knu"
      ]
    },
    {
      "cell_type": "code",
      "execution_count": null,
      "metadata": {
        "id": "-QNBRN9FGZFx"
      },
      "outputs": [],
      "source": [
        "import pandas as pd\n",
        "import numpy as np\n",
        "import matplotlib as mpl\n",
        "import matplotlib.pyplot as plt\n",
        "import re\n",
        "from tensorflow.keras.preprocessing.sequence import pad_sequences\n",
        "from tensorflow.keras.preprocessing.text import Tokenizer\n",
        "from wordcloud import WordCloud\n",
        "\n",
        "from konlpy import tag\n",
        "from konlpy.corpus import kolaw\n",
        "from konlpy.tag import Kkma, Komoran, Okt, Hannanum #Mecab은 윈도우에서 작동 불가능 #형태소 분석기 호출\n",
        "\n",
        "from nltk.tokenize import sent_tokenize\n",
        "from collections import Counter #데이터의 개수를 정리할 수 있는 모듈\n",
        "from konlpy.utils import pprint #유니코드 문자 출력\n",
        "\n",
        "import warnings\n",
        "warnings.filterwarnings('ignore')"
      ]
    },
    {
      "cell_type": "code",
      "execution_count": null,
      "metadata": {
        "id": "MKhMzZEEGZFx",
        "outputId": "56a10808-7d3c-4721-e6e6-d23d9e8abaf6"
      },
      "outputs": [
        {
          "data": {
            "text/html": [
              "<div>\n",
              "<style scoped>\n",
              "    .dataframe tbody tr th:only-of-type {\n",
              "        vertical-align: middle;\n",
              "    }\n",
              "\n",
              "    .dataframe tbody tr th {\n",
              "        vertical-align: top;\n",
              "    }\n",
              "\n",
              "    .dataframe thead th {\n",
              "        text-align: right;\n",
              "    }\n",
              "</style>\n",
              "<table border=\"1\" class=\"dataframe\">\n",
              "  <thead>\n",
              "    <tr style=\"text-align: right;\">\n",
              "      <th></th>\n",
              "      <th>singer</th>\n",
              "      <th>title</th>\n",
              "      <th>lyrics</th>\n",
              "    </tr>\n",
              "  </thead>\n",
              "  <tbody>\n",
              "    <tr>\n",
              "      <th>0</th>\n",
              "      <td>NewJeans</td>\n",
              "      <td>Ditto</td>\n",
              "      <td>우스 테이에서 미들 수수께끼를 원하지 않습니다 말해줘 백로라고 말하면 하고 말합니다...</td>\n",
              "    </tr>\n",
              "    <tr>\n",
              "      <th>1</th>\n",
              "      <td>NewJeans</td>\n",
              "      <td>OMG</td>\n",
              "      <td>노래는 그것 당신에 대해 아이비 만만 힘들 때울 같을 기운도 나지 않을 그것 걱정하...</td>\n",
              "    </tr>\n",
              "  </tbody>\n",
              "</table>\n",
              "</div>"
            ],
            "text/plain": [
              "     singer  title                                             lyrics\n",
              "0  NewJeans  Ditto  우스 테이에서 미들 수수께끼를 원하지 않습니다 말해줘 백로라고 말하면 하고 말합니다...\n",
              "1  NewJeans    OMG  노래는 그것 당신에 대해 아이비 만만 힘들 때울 같을 기운도 나지 않을 그것 걱정하..."
            ]
          },
          "execution_count": 3,
          "metadata": {},
          "output_type": "execute_result"
        }
      ],
      "source": [
        "top30=pd.read_csv('./data/top30_pre.csv',encoding='utf-8')\n",
        "top30.head(2)"
      ]
    },
    {
      "cell_type": "code",
      "execution_count": null,
      "metadata": {
        "id": "c8CpyCHYGZFy"
      },
      "outputs": [],
      "source": [
        "def LyricsWordCount(arrList):\n",
        "\n",
        "    pos_word = pd.read_csv('./pos_pol_word.txt', index_col = 0)\n",
        "    pos_word = pd.DataFrame(pos_word).reset_index()\n",
        "    pos_word.columns = ['pos_word']\n",
        "\n",
        "    neg_word = pd.read_csv('./neg_pol_word.txt', index_col = 0)\n",
        "    neg_word = pd.DataFrame(neg_word).reset_index()\n",
        "    neg_word.columns = ['neg_word']\n",
        "\n",
        "    list = []\n",
        "    result = []\n",
        "    knu_num=[]\n",
        "    i=1\n",
        "\n",
        "    # 감성 점수 구하기\n",
        "    for Lyrics in arrList:\n",
        "        neg_count = 0       # 부정 점수\n",
        "        pos_count = 0       # 긍정 점수\n",
        "        num = 0             # 감성 점수 \n",
        "        \n",
        "        # 긍정 점수 구하기\n",
        "        for pos_text in pos_word['pos_word']:\n",
        "            pos_find = Lyrics.find(pos_text)\n",
        "            if(pos_find > -1):\n",
        "                pos_count += 1\n",
        "            else: pos_count += 0\n",
        "\n",
        "\n",
        "        # 부정 점수 구하기\n",
        "        for neg_text in neg_word['neg_word']:\n",
        "            neg_find = Lyrics.find(neg_text)\n",
        "            if(neg_find > -1):\n",
        "                neg_count += 1\n",
        "            else: neg_count += 0\n",
        "\n",
        "        # 감성 점수 공식\n",
        "        if pos_count==0 or neg_count==0:\n",
        "          num=0\n",
        "        else:\n",
        "          num=pos_count/(pos_count+neg_count)\n",
        "        knu_num.append(num)\n",
        "\n",
        "        # 긍, 부정 결과\n",
        "        if num>=0.5:\n",
        "          result='긍정'\n",
        "        else:\n",
        "          result='부정'\n",
        "\n",
        "        srt = f\"{i}번 노래 결과 -> 긍정 : {pos_count}, 부정 : {neg_count} , 감성 점수 : {round(num,3)}  {result}\"\n",
        "        i = i + 1\n",
        "        list.append(srt)\n",
        "    return list,knu_num"
      ]
    },
    {
      "cell_type": "code",
      "execution_count": null,
      "metadata": {
        "id": "AdphzjebGZFy",
        "outputId": "fdd7d970-22d1-4dba-db5d-465160fd766f"
      },
      "outputs": [
        {
          "data": {
            "text/plain": [
              "['1번 노래 결과 -> 긍정 : 5, 부정 : 5 , 감성 점수 : 0.5  긍정',\n",
              " '2번 노래 결과 -> 긍정 : 2, 부정 : 4 , 감성 점수 : 0.333  부정',\n",
              " '3번 노래 결과 -> 긍정 : 4, 부정 : 2 , 감성 점수 : 0.667  긍정',\n",
              " '4번 노래 결과 -> 긍정 : 9, 부정 : 5 , 감성 점수 : 0.643  긍정',\n",
              " '5번 노래 결과 -> 긍정 : 12, 부정 : 6 , 감성 점수 : 0.667  긍정',\n",
              " '6번 노래 결과 -> 긍정 : 2, 부정 : 14 , 감성 점수 : 0.125  부정',\n",
              " '7번 노래 결과 -> 긍정 : 3, 부정 : 10 , 감성 점수 : 0.231  부정',\n",
              " '8번 노래 결과 -> 긍정 : 6, 부정 : 7 , 감성 점수 : 0.462  부정',\n",
              " '9번 노래 결과 -> 긍정 : 5, 부정 : 1 , 감성 점수 : 0.833  긍정',\n",
              " '10번 노래 결과 -> 긍정 : 4, 부정 : 5 , 감성 점수 : 0.444  부정',\n",
              " '11번 노래 결과 -> 긍정 : 7, 부정 : 2 , 감성 점수 : 0.778  긍정',\n",
              " '12번 노래 결과 -> 긍정 : 3, 부정 : 5 , 감성 점수 : 0.375  부정',\n",
              " '13번 노래 결과 -> 긍정 : 4, 부정 : 8 , 감성 점수 : 0.333  부정',\n",
              " '14번 노래 결과 -> 긍정 : 4, 부정 : 2 , 감성 점수 : 0.667  긍정',\n",
              " '15번 노래 결과 -> 긍정 : 6, 부정 : 2 , 감성 점수 : 0.75  긍정',\n",
              " '16번 노래 결과 -> 긍정 : 6, 부정 : 2 , 감성 점수 : 0.75  긍정',\n",
              " '17번 노래 결과 -> 긍정 : 6, 부정 : 8 , 감성 점수 : 0.429  부정',\n",
              " '18번 노래 결과 -> 긍정 : 5, 부정 : 9 , 감성 점수 : 0.357  부정',\n",
              " '19번 노래 결과 -> 긍정 : 7, 부정 : 10 , 감성 점수 : 0.412  부정',\n",
              " '20번 노래 결과 -> 긍정 : 4, 부정 : 6 , 감성 점수 : 0.4  부정',\n",
              " '21번 노래 결과 -> 긍정 : 6, 부정 : 8 , 감성 점수 : 0.429  부정',\n",
              " '22번 노래 결과 -> 긍정 : 6, 부정 : 2 , 감성 점수 : 0.75  긍정',\n",
              " '23번 노래 결과 -> 긍정 : 10, 부정 : 14 , 감성 점수 : 0.417  부정',\n",
              " '24번 노래 결과 -> 긍정 : 4, 부정 : 5 , 감성 점수 : 0.444  부정',\n",
              " '25번 노래 결과 -> 긍정 : 8, 부정 : 10 , 감성 점수 : 0.444  부정',\n",
              " '26번 노래 결과 -> 긍정 : 13, 부정 : 9 , 감성 점수 : 0.591  긍정',\n",
              " '27번 노래 결과 -> 긍정 : 8, 부정 : 4 , 감성 점수 : 0.667  긍정',\n",
              " '28번 노래 결과 -> 긍정 : 4, 부정 : 3 , 감성 점수 : 0.571  긍정',\n",
              " '29번 노래 결과 -> 긍정 : 9, 부정 : 5 , 감성 점수 : 0.643  긍정',\n",
              " '30번 노래 결과 -> 긍정 : 4, 부정 : 6 , 감성 점수 : 0.4  부정']"
            ]
          },
          "execution_count": 5,
          "metadata": {},
          "output_type": "execute_result"
        }
      ],
      "source": [
        "pos_neg,knu_num=LyricsWordCount(top30['lyrics'])\n",
        "pos_neg"
      ]
    },
    {
      "cell_type": "code",
      "execution_count": null,
      "metadata": {
        "id": "ySM9uG-QGZFy",
        "outputId": "6cb8d998-50f4-4263-9652-38f8b75de861"
      },
      "outputs": [
        {
          "data": {
            "text/html": [
              "<div>\n",
              "<style scoped>\n",
              "    .dataframe tbody tr th:only-of-type {\n",
              "        vertical-align: middle;\n",
              "    }\n",
              "\n",
              "    .dataframe tbody tr th {\n",
              "        vertical-align: top;\n",
              "    }\n",
              "\n",
              "    .dataframe thead th {\n",
              "        text-align: right;\n",
              "    }\n",
              "</style>\n",
              "<table border=\"1\" class=\"dataframe\">\n",
              "  <thead>\n",
              "    <tr style=\"text-align: right;\">\n",
              "      <th></th>\n",
              "      <th>singer</th>\n",
              "      <th>title</th>\n",
              "      <th>lyrics</th>\n",
              "      <th>knu</th>\n",
              "    </tr>\n",
              "  </thead>\n",
              "  <tbody>\n",
              "    <tr>\n",
              "      <th>0</th>\n",
              "      <td>NewJeans</td>\n",
              "      <td>Ditto</td>\n",
              "      <td>우스 테이에서 미들 수수께끼를 원하지 않습니다 말해줘 백로라고 말하면 하고 말합니다...</td>\n",
              "      <td>0.500000</td>\n",
              "    </tr>\n",
              "    <tr>\n",
              "      <th>1</th>\n",
              "      <td>NewJeans</td>\n",
              "      <td>OMG</td>\n",
              "      <td>노래는 그것 당신에 대해 아이비 만만 힘들 때울 같을 기운도 나지 않을 그것 걱정하...</td>\n",
              "      <td>0.333333</td>\n",
              "    </tr>\n",
              "    <tr>\n",
              "      <th>2</th>\n",
              "      <td>NewJeans</td>\n",
              "      <td>Hype boy</td>\n",
              "      <td>아기 미쳤다 빠져버리는 은 당신을 느끼게 했습니다 너도 말해줄래 누가 뭐라 든 남들...</td>\n",
              "      <td>0.666667</td>\n",
              "    </tr>\n",
              "    <tr>\n",
              "      <th>3</th>\n",
              "      <td>태양</td>\n",
              "      <td>VIBE (feat. Jimin of BTS)</td>\n",
              "      <td>말론 표현할 수 없지만 소녀 분위기를 가지고 있다는 것을 알아야 합니다에 미소는 미...</td>\n",
              "      <td>0.642857</td>\n",
              "    </tr>\n",
              "    <tr>\n",
              "      <th>4</th>\n",
              "      <td>윤하 (YOUNHA)</td>\n",
              "      <td>사건의 지평선</td>\n",
              "      <td>생각이 많은 건 말이야 당연히 해야 할 일이야 나에겐 우리가 순위야 안전한 유리병을...</td>\n",
              "      <td>0.666667</td>\n",
              "    </tr>\n",
              "  </tbody>\n",
              "</table>\n",
              "</div>"
            ],
            "text/plain": [
              "        singer                      title  \\\n",
              "0     NewJeans                      Ditto   \n",
              "1     NewJeans                        OMG   \n",
              "2     NewJeans                   Hype boy   \n",
              "3           태양  VIBE (feat. Jimin of BTS)   \n",
              "4  윤하 (YOUNHA)                    사건의 지평선   \n",
              "\n",
              "                                              lyrics       knu  \n",
              "0  우스 테이에서 미들 수수께끼를 원하지 않습니다 말해줘 백로라고 말하면 하고 말합니다...  0.500000  \n",
              "1  노래는 그것 당신에 대해 아이비 만만 힘들 때울 같을 기운도 나지 않을 그것 걱정하...  0.333333  \n",
              "2  아기 미쳤다 빠져버리는 은 당신을 느끼게 했습니다 너도 말해줄래 누가 뭐라 든 남들...  0.666667  \n",
              "3  말론 표현할 수 없지만 소녀 분위기를 가지고 있다는 것을 알아야 합니다에 미소는 미...  0.642857  \n",
              "4  생각이 많은 건 말이야 당연히 해야 할 일이야 나에겐 우리가 순위야 안전한 유리병을...  0.666667  "
            ]
          },
          "execution_count": 6,
          "metadata": {},
          "output_type": "execute_result"
        }
      ],
      "source": [
        "top30['knu']=knu_num\n",
        "top30.head()"
      ]
    },
    {
      "cell_type": "markdown",
      "metadata": {
        "id": "IO59AmXXGZFy"
      },
      "source": [
        "kosac"
      ]
    },
    {
      "cell_type": "code",
      "execution_count": null,
      "metadata": {
        "id": "KBupSX2EGZFy"
      },
      "outputs": [],
      "source": [
        "import pandas as pd\n",
        "import numpy as np\n",
        "\n",
        "import re\n",
        "from konlpy.tag import Okt\n",
        "from tensorflow.keras.preprocessing.sequence import pad_sequences\n",
        "from tensorflow.keras.preprocessing.text import Tokenizer\n",
        "from konlpy.tag import Kkma, Komoran, Okt, Hannanum  #Mecab은 윈도우에서 작동 불가능\n",
        "\n",
        "from konlpy import tag\n",
        "from konlpy.corpus import kolaw\n",
        "# from konlpy.utils import csvwrite, pprint\n",
        "\n",
        "from nltk.tokenize import sent_tokenize"
      ]
    },
    {
      "cell_type": "code",
      "execution_count": null,
      "metadata": {
        "id": "a2TKRNryGZFy"
      },
      "outputs": [],
      "source": [
        "kosac=pd.read_csv('./polarity.csv',encoding='utf-8')"
      ]
    },
    {
      "cell_type": "code",
      "execution_count": null,
      "metadata": {
        "id": "Mz6dQ6bSGZFy"
      },
      "outputs": [],
      "source": [
        "kkma=Kkma()\n",
        "\n",
        "data=top30['lyrics'].to_string()\n",
        "kkma_data=kkma.pos(data)"
      ]
    },
    {
      "cell_type": "code",
      "execution_count": null,
      "metadata": {
        "id": "oYYDvThoGZFz"
      },
      "outputs": [],
      "source": [
        "kkma_list=[]\n",
        "\n",
        "for i in range(len(kkma_data)):\n",
        "    word=kkma_data[i][0]+'/'+kkma_data[i][1]\n",
        "    kkma_list.append(word)\n",
        "    i+=1"
      ]
    },
    {
      "cell_type": "code",
      "execution_count": null,
      "metadata": {
        "id": "5SBbTgkCGZFz"
      },
      "outputs": [],
      "source": [
        "text = ''.join(str(i) for i in kkma_list)\n",
        "\n",
        "text_list = []\n",
        "\n",
        "numList = re.findall(r'\\d+',text)"
      ]
    },
    {
      "cell_type": "code",
      "execution_count": null,
      "metadata": {
        "id": "inYf03GwGZFz"
      },
      "outputs": [],
      "source": [
        "numList_pos=[]\n",
        "for i in numList:\n",
        "  if(text.find(f'{i}') > -1):\n",
        "    num = text.find(f'{i}')\n",
        "    numList_pos.append(num)"
      ]
    },
    {
      "cell_type": "code",
      "execution_count": null,
      "metadata": {
        "id": "ba_esOUTGZFz"
      },
      "outputs": [],
      "source": [
        "for i in range(len(numList_pos)):\n",
        "  if(i == len(numList_pos)-1):\n",
        "    text_2 = text[numList_pos[i]:len(text)]\n",
        "  else:\n",
        "    text_2 = text[numList_pos[i]:numList_pos[i+1]]\n",
        "  text_list.append(text_2)"
      ]
    },
    {
      "cell_type": "code",
      "execution_count": null,
      "metadata": {
        "id": "l3ueyoLxGZFz"
      },
      "outputs": [],
      "source": [
        "df=pd.DataFrame(text_list)\n",
        "df.columns=['word']"
      ]
    },
    {
      "cell_type": "code",
      "execution_count": null,
      "metadata": {
        "id": "a7h6XPrYGZFz"
      },
      "outputs": [],
      "source": [
        "kosac_pos=kosac[kosac['max.value']=='POS']\n",
        "kosac_neg=kosac[kosac['max.value']=='NEG']"
      ]
    },
    {
      "cell_type": "code",
      "execution_count": null,
      "metadata": {
        "id": "tjifh2I2GZFz"
      },
      "outputs": [],
      "source": [
        "def LyricsWordCount(arrList):\n",
        "    kosac_num=[]\n",
        "    list = []\n",
        "    i=1\n",
        "\n",
        "    # 감성 점수 구하기\n",
        "    for Lyrics in arrList:\n",
        "        neg_count = 0       # 부정 점수\n",
        "        pos_count = 0       # 긍정 점수\n",
        "        num = 0             # 감성 점수\n",
        "        \n",
        "        # 긍정 점수 구하기\n",
        "        for pos_text in kosac_pos['ngram']:\n",
        "            pos_find = Lyrics.find(pos_text)\n",
        "            if(pos_find > -1):\n",
        "                pos_count += 1\n",
        "            else: pos_count += 0\n",
        "\n",
        "\n",
        "        # 부정 점수 구하기\n",
        "        for neg_text in kosac_neg['ngram']:\n",
        "            neg_find = Lyrics.find(neg_text)\n",
        "            if(neg_find > -1):\n",
        "                neg_count += 1\n",
        "            else: neg_count += 0\n",
        "\n",
        "        # 감성 점수 공식\n",
        "        num = pos_count - neg_count\n",
        "\n",
        "        # 감성 점수 공식\n",
        "        if pos_count == 0 or neg_count == 0:\n",
        "            num = 0\n",
        "        else:\n",
        "            num = pos_count/(pos_count + neg_count)\n",
        "        \n",
        "        kosac_num.append(num)\n",
        "\n",
        "        # 긍, 부정 결과\n",
        "        if num >= 0.5:\n",
        "            result = '긍정'\n",
        "        elif num < 0.5:\n",
        "            result = '부정'\n",
        "\n",
        "\n",
        "        srt = f\"{i}번 노래 결과 : 긍정 : {pos_count}, 부정 : {neg_count} , 감성 점수 : {round(num,3)}  {result}\"\n",
        "        i = i + 1\n",
        "\n",
        "        list.append(srt)\n",
        "    return list,kosac_num\n"
      ]
    },
    {
      "cell_type": "code",
      "execution_count": null,
      "metadata": {
        "id": "-sAvMxN7GZFz",
        "outputId": "20de9f8a-67bf-44be-a5fa-c8e909bf16f6"
      },
      "outputs": [
        {
          "name": "stdout",
          "output_type": "stream",
          "text": [
            "1번 노래 결과 : 긍정 : 9, 부정 : 4 , 감성 점수 : 0.692  긍정\n",
            "2번 노래 결과 : 긍정 : 7, 부정 : 9 , 감성 점수 : 0.438  부정\n",
            "3번 노래 결과 : 긍정 : 11, 부정 : 11 , 감성 점수 : 0.5  긍정\n",
            "4번 노래 결과 : 긍정 : 9, 부정 : 7 , 감성 점수 : 0.562  긍정\n",
            "5번 노래 결과 : 긍정 : 5, 부정 : 9 , 감성 점수 : 0.357  부정\n",
            "6번 노래 결과 : 긍정 : 8, 부정 : 5 , 감성 점수 : 0.615  긍정\n",
            "7번 노래 결과 : 긍정 : 5, 부정 : 6 , 감성 점수 : 0.455  부정\n",
            "8번 노래 결과 : 긍정 : 6, 부정 : 13 , 감성 점수 : 0.316  부정\n",
            "9번 노래 결과 : 긍정 : 7, 부정 : 9 , 감성 점수 : 0.438  부정\n",
            "10번 노래 결과 : 긍정 : 9, 부정 : 10 , 감성 점수 : 0.474  부정\n",
            "11번 노래 결과 : 긍정 : 6, 부정 : 9 , 감성 점수 : 0.4  부정\n",
            "12번 노래 결과 : 긍정 : 8, 부정 : 4 , 감성 점수 : 0.667  긍정\n",
            "13번 노래 결과 : 긍정 : 12, 부정 : 7 , 감성 점수 : 0.632  긍정\n",
            "14번 노래 결과 : 긍정 : 3, 부정 : 4 , 감성 점수 : 0.429  부정\n",
            "15번 노래 결과 : 긍정 : 7, 부정 : 7 , 감성 점수 : 0.5  긍정\n",
            "16번 노래 결과 : 긍정 : 8, 부정 : 7 , 감성 점수 : 0.533  긍정\n",
            "17번 노래 결과 : 긍정 : 7, 부정 : 13 , 감성 점수 : 0.35  부정\n",
            "18번 노래 결과 : 긍정 : 6, 부정 : 9 , 감성 점수 : 0.4  부정\n",
            "19번 노래 결과 : 긍정 : 10, 부정 : 8 , 감성 점수 : 0.556  긍정\n",
            "20번 노래 결과 : 긍정 : 7, 부정 : 13 , 감성 점수 : 0.35  부정\n",
            "21번 노래 결과 : 긍정 : 8, 부정 : 2 , 감성 점수 : 0.8  긍정\n",
            "22번 노래 결과 : 긍정 : 5, 부정 : 5 , 감성 점수 : 0.5  긍정\n",
            "23번 노래 결과 : 긍정 : 8, 부정 : 4 , 감성 점수 : 0.667  긍정\n",
            "24번 노래 결과 : 긍정 : 7, 부정 : 6 , 감성 점수 : 0.538  긍정\n",
            "25번 노래 결과 : 긍정 : 5, 부정 : 10 , 감성 점수 : 0.333  부정\n",
            "26번 노래 결과 : 긍정 : 3, 부정 : 9 , 감성 점수 : 0.25  부정\n",
            "27번 노래 결과 : 긍정 : 6, 부정 : 12 , 감성 점수 : 0.333  부정\n",
            "28번 노래 결과 : 긍정 : 4, 부정 : 9 , 감성 점수 : 0.308  부정\n",
            "29번 노래 결과 : 긍정 : 7, 부정 : 7 , 감성 점수 : 0.5  긍정\n",
            "30번 노래 결과 : 긍정 : 6, 부정 : 13 , 감성 점수 : 0.316  부정\n"
          ]
        }
      ],
      "source": [
        "pos_result,kosac_num = LyricsWordCount(df['word'])\n",
        "\n",
        "for pos in pos_result:\n",
        "    print(pos)"
      ]
    },
    {
      "cell_type": "code",
      "execution_count": null,
      "metadata": {
        "id": "BCvgtzdvGZF0",
        "outputId": "ad47e0ce-1096-4f04-dfe6-3afdc56082c7"
      },
      "outputs": [
        {
          "data": {
            "text/html": [
              "<div>\n",
              "<style scoped>\n",
              "    .dataframe tbody tr th:only-of-type {\n",
              "        vertical-align: middle;\n",
              "    }\n",
              "\n",
              "    .dataframe tbody tr th {\n",
              "        vertical-align: top;\n",
              "    }\n",
              "\n",
              "    .dataframe thead th {\n",
              "        text-align: right;\n",
              "    }\n",
              "</style>\n",
              "<table border=\"1\" class=\"dataframe\">\n",
              "  <thead>\n",
              "    <tr style=\"text-align: right;\">\n",
              "      <th></th>\n",
              "      <th>singer</th>\n",
              "      <th>title</th>\n",
              "      <th>lyrics</th>\n",
              "      <th>knu</th>\n",
              "      <th>kosac</th>\n",
              "    </tr>\n",
              "  </thead>\n",
              "  <tbody>\n",
              "    <tr>\n",
              "      <th>0</th>\n",
              "      <td>NewJeans</td>\n",
              "      <td>Ditto</td>\n",
              "      <td>우스 테이에서 미들 수수께끼를 원하지 않습니다 말해줘 백로라고 말하면 하고 말합니다...</td>\n",
              "      <td>0.500000</td>\n",
              "      <td>0.692308</td>\n",
              "    </tr>\n",
              "    <tr>\n",
              "      <th>1</th>\n",
              "      <td>NewJeans</td>\n",
              "      <td>OMG</td>\n",
              "      <td>노래는 그것 당신에 대해 아이비 만만 힘들 때울 같을 기운도 나지 않을 그것 걱정하...</td>\n",
              "      <td>0.333333</td>\n",
              "      <td>0.437500</td>\n",
              "    </tr>\n",
              "    <tr>\n",
              "      <th>2</th>\n",
              "      <td>NewJeans</td>\n",
              "      <td>Hype boy</td>\n",
              "      <td>아기 미쳤다 빠져버리는 은 당신을 느끼게 했습니다 너도 말해줄래 누가 뭐라 든 남들...</td>\n",
              "      <td>0.666667</td>\n",
              "      <td>0.500000</td>\n",
              "    </tr>\n",
              "    <tr>\n",
              "      <th>3</th>\n",
              "      <td>태양</td>\n",
              "      <td>VIBE (feat. Jimin of BTS)</td>\n",
              "      <td>말론 표현할 수 없지만 소녀 분위기를 가지고 있다는 것을 알아야 합니다에 미소는 미...</td>\n",
              "      <td>0.642857</td>\n",
              "      <td>0.562500</td>\n",
              "    </tr>\n",
              "    <tr>\n",
              "      <th>4</th>\n",
              "      <td>윤하 (YOUNHA)</td>\n",
              "      <td>사건의 지평선</td>\n",
              "      <td>생각이 많은 건 말이야 당연히 해야 할 일이야 나에겐 우리가 순위야 안전한 유리병을...</td>\n",
              "      <td>0.666667</td>\n",
              "      <td>0.357143</td>\n",
              "    </tr>\n",
              "  </tbody>\n",
              "</table>\n",
              "</div>"
            ],
            "text/plain": [
              "        singer                      title  \\\n",
              "0     NewJeans                      Ditto   \n",
              "1     NewJeans                        OMG   \n",
              "2     NewJeans                   Hype boy   \n",
              "3           태양  VIBE (feat. Jimin of BTS)   \n",
              "4  윤하 (YOUNHA)                    사건의 지평선   \n",
              "\n",
              "                                              lyrics       knu     kosac  \n",
              "0  우스 테이에서 미들 수수께끼를 원하지 않습니다 말해줘 백로라고 말하면 하고 말합니다...  0.500000  0.692308  \n",
              "1  노래는 그것 당신에 대해 아이비 만만 힘들 때울 같을 기운도 나지 않을 그것 걱정하...  0.333333  0.437500  \n",
              "2  아기 미쳤다 빠져버리는 은 당신을 느끼게 했습니다 너도 말해줄래 누가 뭐라 든 남들...  0.666667  0.500000  \n",
              "3  말론 표현할 수 없지만 소녀 분위기를 가지고 있다는 것을 알아야 합니다에 미소는 미...  0.642857  0.562500  \n",
              "4  생각이 많은 건 말이야 당연히 해야 할 일이야 나에겐 우리가 순위야 안전한 유리병을...  0.666667  0.357143  "
            ]
          },
          "execution_count": 19,
          "metadata": {},
          "output_type": "execute_result"
        }
      ],
      "source": [
        "top30['kosac']=kosac_num\n",
        "top30.head()"
      ]
    },
    {
      "cell_type": "markdown",
      "metadata": {
        "id": "LXKCcekPGZF0"
      },
      "source": [
        "knu, kosac 평균"
      ]
    },
    {
      "cell_type": "code",
      "execution_count": null,
      "metadata": {
        "id": "VmtfnYxCGZF0",
        "outputId": "c33444f9-38c9-493a-9f59-021e7da4fa64"
      },
      "outputs": [
        {
          "data": {
            "text/html": [
              "<div>\n",
              "<style scoped>\n",
              "    .dataframe tbody tr th:only-of-type {\n",
              "        vertical-align: middle;\n",
              "    }\n",
              "\n",
              "    .dataframe tbody tr th {\n",
              "        vertical-align: top;\n",
              "    }\n",
              "\n",
              "    .dataframe thead th {\n",
              "        text-align: right;\n",
              "    }\n",
              "</style>\n",
              "<table border=\"1\" class=\"dataframe\">\n",
              "  <thead>\n",
              "    <tr style=\"text-align: right;\">\n",
              "      <th></th>\n",
              "      <th>singer</th>\n",
              "      <th>title</th>\n",
              "      <th>lyrics</th>\n",
              "      <th>knu</th>\n",
              "      <th>kosac</th>\n",
              "      <th>result</th>\n",
              "    </tr>\n",
              "  </thead>\n",
              "  <tbody>\n",
              "    <tr>\n",
              "      <th>0</th>\n",
              "      <td>NewJeans</td>\n",
              "      <td>Ditto</td>\n",
              "      <td>우스 테이에서 미들 수수께끼를 원하지 않습니다 말해줘 백로라고 말하면 하고 말합니다...</td>\n",
              "      <td>0.500000</td>\n",
              "      <td>0.692308</td>\n",
              "      <td>0.596154</td>\n",
              "    </tr>\n",
              "    <tr>\n",
              "      <th>1</th>\n",
              "      <td>NewJeans</td>\n",
              "      <td>OMG</td>\n",
              "      <td>노래는 그것 당신에 대해 아이비 만만 힘들 때울 같을 기운도 나지 않을 그것 걱정하...</td>\n",
              "      <td>0.333333</td>\n",
              "      <td>0.437500</td>\n",
              "      <td>0.385417</td>\n",
              "    </tr>\n",
              "    <tr>\n",
              "      <th>2</th>\n",
              "      <td>NewJeans</td>\n",
              "      <td>Hype boy</td>\n",
              "      <td>아기 미쳤다 빠져버리는 은 당신을 느끼게 했습니다 너도 말해줄래 누가 뭐라 든 남들...</td>\n",
              "      <td>0.666667</td>\n",
              "      <td>0.500000</td>\n",
              "      <td>0.583333</td>\n",
              "    </tr>\n",
              "    <tr>\n",
              "      <th>3</th>\n",
              "      <td>태양</td>\n",
              "      <td>VIBE (feat. Jimin of BTS)</td>\n",
              "      <td>말론 표현할 수 없지만 소녀 분위기를 가지고 있다는 것을 알아야 합니다에 미소는 미...</td>\n",
              "      <td>0.642857</td>\n",
              "      <td>0.562500</td>\n",
              "      <td>0.602679</td>\n",
              "    </tr>\n",
              "    <tr>\n",
              "      <th>4</th>\n",
              "      <td>윤하 (YOUNHA)</td>\n",
              "      <td>사건의 지평선</td>\n",
              "      <td>생각이 많은 건 말이야 당연히 해야 할 일이야 나에겐 우리가 순위야 안전한 유리병을...</td>\n",
              "      <td>0.666667</td>\n",
              "      <td>0.357143</td>\n",
              "      <td>0.511905</td>\n",
              "    </tr>\n",
              "  </tbody>\n",
              "</table>\n",
              "</div>"
            ],
            "text/plain": [
              "        singer                      title  \\\n",
              "0     NewJeans                      Ditto   \n",
              "1     NewJeans                        OMG   \n",
              "2     NewJeans                   Hype boy   \n",
              "3           태양  VIBE (feat. Jimin of BTS)   \n",
              "4  윤하 (YOUNHA)                    사건의 지평선   \n",
              "\n",
              "                                              lyrics       knu     kosac  \\\n",
              "0  우스 테이에서 미들 수수께끼를 원하지 않습니다 말해줘 백로라고 말하면 하고 말합니다...  0.500000  0.692308   \n",
              "1  노래는 그것 당신에 대해 아이비 만만 힘들 때울 같을 기운도 나지 않을 그것 걱정하...  0.333333  0.437500   \n",
              "2  아기 미쳤다 빠져버리는 은 당신을 느끼게 했습니다 너도 말해줄래 누가 뭐라 든 남들...  0.666667  0.500000   \n",
              "3  말론 표현할 수 없지만 소녀 분위기를 가지고 있다는 것을 알아야 합니다에 미소는 미...  0.642857  0.562500   \n",
              "4  생각이 많은 건 말이야 당연히 해야 할 일이야 나에겐 우리가 순위야 안전한 유리병을...  0.666667  0.357143   \n",
              "\n",
              "     result  \n",
              "0  0.596154  \n",
              "1  0.385417  \n",
              "2  0.583333  \n",
              "3  0.602679  \n",
              "4  0.511905  "
            ]
          },
          "execution_count": 20,
          "metadata": {},
          "output_type": "execute_result"
        }
      ],
      "source": [
        "top30['result']=(top30['knu']+top30['kosac'])/2\n",
        "top30.head()"
      ]
    },
    {
      "cell_type": "code",
      "execution_count": null,
      "metadata": {
        "id": "kwDRYwCPGZF0",
        "outputId": "6dd513f5-d902-4b61-b838-07f2e1ac60da"
      },
      "outputs": [
        {
          "data": {
            "text/html": [
              "<div>\n",
              "<style scoped>\n",
              "    .dataframe tbody tr th:only-of-type {\n",
              "        vertical-align: middle;\n",
              "    }\n",
              "\n",
              "    .dataframe tbody tr th {\n",
              "        vertical-align: top;\n",
              "    }\n",
              "\n",
              "    .dataframe thead th {\n",
              "        text-align: right;\n",
              "    }\n",
              "</style>\n",
              "<table border=\"1\" class=\"dataframe\">\n",
              "  <thead>\n",
              "    <tr style=\"text-align: right;\">\n",
              "      <th></th>\n",
              "      <th>singer</th>\n",
              "      <th>title</th>\n",
              "      <th>lyrics</th>\n",
              "      <th>knu</th>\n",
              "      <th>kosac</th>\n",
              "      <th>result</th>\n",
              "      <th>pos</th>\n",
              "    </tr>\n",
              "  </thead>\n",
              "  <tbody>\n",
              "    <tr>\n",
              "      <th>0</th>\n",
              "      <td>NewJeans</td>\n",
              "      <td>Ditto</td>\n",
              "      <td>우스 테이에서 미들 수수께끼를 원하지 않습니다 말해줘 백로라고 말하면 하고 말합니다...</td>\n",
              "      <td>0.500000</td>\n",
              "      <td>0.692308</td>\n",
              "      <td>0.596154</td>\n",
              "      <td>1</td>\n",
              "    </tr>\n",
              "    <tr>\n",
              "      <th>1</th>\n",
              "      <td>NewJeans</td>\n",
              "      <td>OMG</td>\n",
              "      <td>노래는 그것 당신에 대해 아이비 만만 힘들 때울 같을 기운도 나지 않을 그것 걱정하...</td>\n",
              "      <td>0.333333</td>\n",
              "      <td>0.437500</td>\n",
              "      <td>0.385417</td>\n",
              "      <td>0</td>\n",
              "    </tr>\n",
              "    <tr>\n",
              "      <th>2</th>\n",
              "      <td>NewJeans</td>\n",
              "      <td>Hype boy</td>\n",
              "      <td>아기 미쳤다 빠져버리는 은 당신을 느끼게 했습니다 너도 말해줄래 누가 뭐라 든 남들...</td>\n",
              "      <td>0.666667</td>\n",
              "      <td>0.500000</td>\n",
              "      <td>0.583333</td>\n",
              "      <td>1</td>\n",
              "    </tr>\n",
              "    <tr>\n",
              "      <th>3</th>\n",
              "      <td>태양</td>\n",
              "      <td>VIBE (feat. Jimin of BTS)</td>\n",
              "      <td>말론 표현할 수 없지만 소녀 분위기를 가지고 있다는 것을 알아야 합니다에 미소는 미...</td>\n",
              "      <td>0.642857</td>\n",
              "      <td>0.562500</td>\n",
              "      <td>0.602679</td>\n",
              "      <td>1</td>\n",
              "    </tr>\n",
              "    <tr>\n",
              "      <th>4</th>\n",
              "      <td>윤하 (YOUNHA)</td>\n",
              "      <td>사건의 지평선</td>\n",
              "      <td>생각이 많은 건 말이야 당연히 해야 할 일이야 나에겐 우리가 순위야 안전한 유리병을...</td>\n",
              "      <td>0.666667</td>\n",
              "      <td>0.357143</td>\n",
              "      <td>0.511905</td>\n",
              "      <td>1</td>\n",
              "    </tr>\n",
              "  </tbody>\n",
              "</table>\n",
              "</div>"
            ],
            "text/plain": [
              "        singer                      title  \\\n",
              "0     NewJeans                      Ditto   \n",
              "1     NewJeans                        OMG   \n",
              "2     NewJeans                   Hype boy   \n",
              "3           태양  VIBE (feat. Jimin of BTS)   \n",
              "4  윤하 (YOUNHA)                    사건의 지평선   \n",
              "\n",
              "                                              lyrics       knu     kosac  \\\n",
              "0  우스 테이에서 미들 수수께끼를 원하지 않습니다 말해줘 백로라고 말하면 하고 말합니다...  0.500000  0.692308   \n",
              "1  노래는 그것 당신에 대해 아이비 만만 힘들 때울 같을 기운도 나지 않을 그것 걱정하...  0.333333  0.437500   \n",
              "2  아기 미쳤다 빠져버리는 은 당신을 느끼게 했습니다 너도 말해줄래 누가 뭐라 든 남들...  0.666667  0.500000   \n",
              "3  말론 표현할 수 없지만 소녀 분위기를 가지고 있다는 것을 알아야 합니다에 미소는 미...  0.642857  0.562500   \n",
              "4  생각이 많은 건 말이야 당연히 해야 할 일이야 나에겐 우리가 순위야 안전한 유리병을...  0.666667  0.357143   \n",
              "\n",
              "     result pos  \n",
              "0  0.596154   1  \n",
              "1  0.385417   0  \n",
              "2  0.583333   1  \n",
              "3  0.602679   1  \n",
              "4  0.511905   1  "
            ]
          },
          "execution_count": 23,
          "metadata": {},
          "output_type": "execute_result"
        }
      ],
      "source": [
        "def pos_neg(x):\n",
        "    if x['result']>=0.5:\n",
        "        return '1'\n",
        "    else:\n",
        "        return '0'\n",
        "\n",
        "top30['pos']=top30.apply(pos_neg,axis=1)\n",
        "top30.head()"
      ]
    },
    {
      "cell_type": "code",
      "execution_count": null,
      "metadata": {
        "id": "tgMEJxXNGZF0",
        "outputId": "54c2aaff-2a20-4469-daf4-445f9f173552"
      },
      "outputs": [
        {
          "data": {
            "text/html": [
              "<div>\n",
              "<style scoped>\n",
              "    .dataframe tbody tr th:only-of-type {\n",
              "        vertical-align: middle;\n",
              "    }\n",
              "\n",
              "    .dataframe tbody tr th {\n",
              "        vertical-align: top;\n",
              "    }\n",
              "\n",
              "    .dataframe thead th {\n",
              "        text-align: right;\n",
              "    }\n",
              "</style>\n",
              "<table border=\"1\" class=\"dataframe\">\n",
              "  <thead>\n",
              "    <tr style=\"text-align: right;\">\n",
              "      <th></th>\n",
              "      <th>singer</th>\n",
              "      <th>title</th>\n",
              "      <th>lyrics</th>\n",
              "      <th>knu</th>\n",
              "      <th>kosac</th>\n",
              "      <th>result</th>\n",
              "      <th>pos</th>\n",
              "    </tr>\n",
              "  </thead>\n",
              "  <tbody>\n",
              "    <tr>\n",
              "      <th>0</th>\n",
              "      <td>NewJeans</td>\n",
              "      <td>Ditto</td>\n",
              "      <td>우스 테이에서 미들 수수께끼를 원하지 않습니다 말해줘 백로라고 말하면 하고 말합니다...</td>\n",
              "      <td>0.500000</td>\n",
              "      <td>0.692308</td>\n",
              "      <td>0.596154</td>\n",
              "      <td>1</td>\n",
              "    </tr>\n",
              "    <tr>\n",
              "      <th>1</th>\n",
              "      <td>NewJeans</td>\n",
              "      <td>OMG</td>\n",
              "      <td>노래는 그것 당신에 대해 아이비 만만 힘들 때울 같을 기운도 나지 않을 그것 걱정하...</td>\n",
              "      <td>0.333333</td>\n",
              "      <td>0.437500</td>\n",
              "      <td>0.385417</td>\n",
              "      <td>0</td>\n",
              "    </tr>\n",
              "    <tr>\n",
              "      <th>2</th>\n",
              "      <td>NewJeans</td>\n",
              "      <td>Hype boy</td>\n",
              "      <td>아기 미쳤다 빠져버리는 은 당신을 느끼게 했습니다 너도 말해줄래 누가 뭐라 든 남들...</td>\n",
              "      <td>0.666667</td>\n",
              "      <td>0.500000</td>\n",
              "      <td>0.583333</td>\n",
              "      <td>1</td>\n",
              "    </tr>\n",
              "    <tr>\n",
              "      <th>3</th>\n",
              "      <td>태양</td>\n",
              "      <td>VIBE (feat. Jimin of BTS)</td>\n",
              "      <td>말론 표현할 수 없지만 소녀 분위기를 가지고 있다는 것을 알아야 합니다에 미소는 미...</td>\n",
              "      <td>0.642857</td>\n",
              "      <td>0.562500</td>\n",
              "      <td>0.602679</td>\n",
              "      <td>1</td>\n",
              "    </tr>\n",
              "    <tr>\n",
              "      <th>4</th>\n",
              "      <td>윤하 (YOUNHA)</td>\n",
              "      <td>사건의 지평선</td>\n",
              "      <td>생각이 많은 건 말이야 당연히 해야 할 일이야 나에겐 우리가 순위야 안전한 유리병을...</td>\n",
              "      <td>0.666667</td>\n",
              "      <td>0.357143</td>\n",
              "      <td>0.511905</td>\n",
              "      <td>1</td>\n",
              "    </tr>\n",
              "    <tr>\n",
              "      <th>5</th>\n",
              "      <td>투모로우바이투게더</td>\n",
              "      <td>Sugar Rush Ride</td>\n",
              "      <td>생각은 숨을 멈췄어 돌아올 다짐 따윈 한순간 풀어 헤쳐져 네겐 가까이 오라 속삭여 ...</td>\n",
              "      <td>0.125000</td>\n",
              "      <td>0.615385</td>\n",
              "      <td>0.370192</td>\n",
              "      <td>0</td>\n",
              "    </tr>\n",
              "    <tr>\n",
              "      <th>6</th>\n",
              "      <td>부석순 (SEVENTEEN)</td>\n",
              "      <td>파이팅 해야지 (Feat. 이영지)</td>\n",
              "      <td>파이팅 해야지 파이팅 아뿔싸 일어나야지 아침인데 눈 감았다 뜨니 해가 중천인데 아침...</td>\n",
              "      <td>0.230769</td>\n",
              "      <td>0.454545</td>\n",
              "      <td>0.342657</td>\n",
              "      <td>0</td>\n",
              "    </tr>\n",
              "    <tr>\n",
              "      <th>7</th>\n",
              "      <td>LE SSERAFIM (르세라핌)</td>\n",
              "      <td>ANTIFRAGILE</td>\n",
              "      <td>가시밭길 위로 라이딩은 향상시켰다 거짓으로 가득 찬 파티 가렵지도 않아내 뒤에 말들...</td>\n",
              "      <td>0.461538</td>\n",
              "      <td>0.315789</td>\n",
              "      <td>0.388664</td>\n",
              "      <td>0</td>\n",
              "    </tr>\n",
              "    <tr>\n",
              "      <th>8</th>\n",
              "      <td>NewJeans</td>\n",
              "      <td>Attention</td>\n",
              "      <td>너와 맘이 보이지 한참을 쳐다봐 가까이 다가가 볼 수 있습니다 상용기가 생겼지 이미...</td>\n",
              "      <td>0.833333</td>\n",
              "      <td>0.437500</td>\n",
              "      <td>0.635417</td>\n",
              "      <td>1</td>\n",
              "    </tr>\n",
              "    <tr>\n",
              "      <th>9</th>\n",
              "      <td>임영웅</td>\n",
              "      <td>사랑은 늘 도망가</td>\n",
              "      <td>눈물이 난다 길을 걸으면 사람 손길이 생각이 난다 붙잡지 못하고 가슴만 떨었지 아름...</td>\n",
              "      <td>0.444444</td>\n",
              "      <td>0.473684</td>\n",
              "      <td>0.459064</td>\n",
              "      <td>0</td>\n",
              "    </tr>\n",
              "    <tr>\n",
              "      <th>10</th>\n",
              "      <td>IVE (아이브)</td>\n",
              "      <td>After LIKE</td>\n",
              "      <td>모르지 마음이 날씨처럼 바뀔지 나조차 알 수 없으니 그게 뭐가 중요하니 네게 완전히...</td>\n",
              "      <td>0.777778</td>\n",
              "      <td>0.400000</td>\n",
              "      <td>0.588889</td>\n",
              "      <td>1</td>\n",
              "    </tr>\n",
              "    <tr>\n",
              "      <th>11</th>\n",
              "      <td>부석순 (SEVENTEEN)</td>\n",
              "      <td>7시에 들어줘 (Feat. Peder Elias)</td>\n",
              "      <td>알려줘 오늘 찌뿌둥했던 아침부터 만 원에 놓친 릉 타야만 했었던 러시 워너의 표정 ...</td>\n",
              "      <td>0.375000</td>\n",
              "      <td>0.666667</td>\n",
              "      <td>0.520833</td>\n",
              "      <td>1</td>\n",
              "    </tr>\n",
              "    <tr>\n",
              "      <th>12</th>\n",
              "      <td>NCT DREAM</td>\n",
              "      <td>Candy</td>\n",
              "      <td>사탕 사실은 오늘 너와의 만남을 정리하고 싶어널 만날 이해해어렵게 맘 정한 거라네 ...</td>\n",
              "      <td>0.333333</td>\n",
              "      <td>0.631579</td>\n",
              "      <td>0.482456</td>\n",
              "      <td>0</td>\n",
              "    </tr>\n",
              "    <tr>\n",
              "      <th>13</th>\n",
              "      <td>임영웅</td>\n",
              "      <td>London Boy</td>\n",
              "      <td>꿈에 그리던 그곳 푸른 바다 위로 닮은 하늘 런던에서 런던에서 드넓은 공원 안에 담...</td>\n",
              "      <td>0.666667</td>\n",
              "      <td>0.428571</td>\n",
              "      <td>0.547619</td>\n",
              "      <td>1</td>\n",
              "    </tr>\n",
              "    <tr>\n",
              "      <th>14</th>\n",
              "      <td>부석순 (SEVENTEEN)</td>\n",
              "      <td>LUNCH</td>\n",
              "      <td>지구 별다른 우주 상관없어 타임라인 속에 평행하게 있다면 가능할 같아 점심 딜리버리...</td>\n",
              "      <td>0.750000</td>\n",
              "      <td>0.500000</td>\n",
              "      <td>0.625000</td>\n",
              "      <td>1</td>\n",
              "    </tr>\n",
              "    <tr>\n",
              "      <th>15</th>\n",
              "      <td>임영웅</td>\n",
              "      <td>Polaroid</td>\n",
              "      <td>별들이 짙던 밤 하늘에 약속한 고백 아직도 맘에 당연하듯 남아 있어요 어제 일같이 ...</td>\n",
              "      <td>0.750000</td>\n",
              "      <td>0.533333</td>\n",
              "      <td>0.641667</td>\n",
              "      <td>1</td>\n",
              "    </tr>\n",
              "    <tr>\n",
              "      <th>16</th>\n",
              "      <td>임영웅</td>\n",
              "      <td>우리들의 블루스</td>\n",
              "      <td>잊지는 말아요 했던 날들 눈물이 때면 그대 뒤를 돌아보면 돼요 아프지 말아요 쓸쓸한...</td>\n",
              "      <td>0.428571</td>\n",
              "      <td>0.350000</td>\n",
              "      <td>0.389286</td>\n",
              "      <td>0</td>\n",
              "    </tr>\n",
              "    <tr>\n",
              "      <th>17</th>\n",
              "      <td>투모로우바이투게더</td>\n",
              "      <td>Devil by the Window</td>\n",
              "      <td>거짓말 거짓말 거짓말 다운 양의 옷에 늑대를 내려놓으십시오 내부에 숨어있을 것입니다...</td>\n",
              "      <td>0.357143</td>\n",
              "      <td>0.400000</td>\n",
              "      <td>0.378571</td>\n",
              "      <td>0</td>\n",
              "    </tr>\n",
              "    <tr>\n",
              "      <th>18</th>\n",
              "      <td>NCT 127</td>\n",
              "      <td>Ay-Yo</td>\n",
              "      <td>준비됐니 닥쳐오는 파란 패러다임 경고 속에 영원했던 존재들의 반전 그것 당신을 위해...</td>\n",
              "      <td>0.411765</td>\n",
              "      <td>0.555556</td>\n",
              "      <td>0.483660</td>\n",
              "      <td>0</td>\n",
              "    </tr>\n",
              "    <tr>\n",
              "      <th>19</th>\n",
              "      <td>임영웅</td>\n",
              "      <td>다시 만날 수 있을까</td>\n",
              "      <td>위해 것이 없어서 보낼 수밖에 없었고 없이 사는 법을 알지 못해서 순간순간을 울었다...</td>\n",
              "      <td>0.400000</td>\n",
              "      <td>0.350000</td>\n",
              "      <td>0.375000</td>\n",
              "      <td>0</td>\n",
              "    </tr>\n",
              "    <tr>\n",
              "      <th>20</th>\n",
              "      <td>투모로우바이투게더</td>\n",
              "      <td>네버랜드를 떠나며</td>\n",
              "      <td>네버 랜드 사랑 안녕 자유 낙하 별들아 편히 자렴 어디로 가든 전화할 때까지 여긴 ...</td>\n",
              "      <td>0.428571</td>\n",
              "      <td>0.800000</td>\n",
              "      <td>0.614286</td>\n",
              "      <td>1</td>\n",
              "    </tr>\n",
              "    <tr>\n",
              "      <th>21</th>\n",
              "      <td>IVE (아이브)</td>\n",
              "      <td>LOVE DIVE</td>\n",
              "      <td>궁금해 그건 너도 마찬가지 이거 면 충분해 쫓고 쫓는 놀이 참을 수 없는 이끌림과 ...</td>\n",
              "      <td>0.750000</td>\n",
              "      <td>0.500000</td>\n",
              "      <td>0.625000</td>\n",
              "      <td>1</td>\n",
              "    </tr>\n",
              "    <tr>\n",
              "      <th>22</th>\n",
              "      <td>(여자)아이들</td>\n",
              "      <td>Nxde</td>\n",
              "      <td>생각하는지 누드 시합 당신의 견해를 유발합니다 당신을 상자 밖에서 무례하게 생각합니...</td>\n",
              "      <td>0.416667</td>\n",
              "      <td>0.666667</td>\n",
              "      <td>0.541667</td>\n",
              "      <td>1</td>\n",
              "    </tr>\n",
              "    <tr>\n",
              "      <th>23</th>\n",
              "      <td>이영지</td>\n",
              "      <td>NOT SORRY (Feat. pH-1) (Prod. by Slom)</td>\n",
              "      <td>미안해 하나도 하나도 아무것도 미안하지가 않아서 나답게 살아가고픈 것뿐 온 엄마 힙...</td>\n",
              "      <td>0.444444</td>\n",
              "      <td>0.538462</td>\n",
              "      <td>0.491453</td>\n",
              "      <td>0</td>\n",
              "    </tr>\n",
              "    <tr>\n",
              "      <th>24</th>\n",
              "      <td>투모로우바이투게더</td>\n",
              "      <td>Tinnitus (돌멩이가 되고 싶어)</td>\n",
              "      <td>그래그래 거리는 소리윙자기야 그냥 되고 싶었다 뜨거운 물건이 되고 싶었습니다 매일 ...</td>\n",
              "      <td>0.444444</td>\n",
              "      <td>0.333333</td>\n",
              "      <td>0.388889</td>\n",
              "      <td>0</td>\n",
              "    </tr>\n",
              "    <tr>\n",
              "      <th>25</th>\n",
              "      <td>투모로우바이투게더</td>\n",
              "      <td>Happy Fools (feat. Coi Leray)</td>\n",
              "      <td>행복한 행복한 행복한 바보 바보 바보 행복할 일은 많은데 할 생각난 없네 언제나 지...</td>\n",
              "      <td>0.590909</td>\n",
              "      <td>0.250000</td>\n",
              "      <td>0.420455</td>\n",
              "      <td>0</td>\n",
              "    </tr>\n",
              "    <tr>\n",
              "      <th>26</th>\n",
              "      <td>임영웅</td>\n",
              "      <td>이제 나만 믿어요</td>\n",
              "      <td>무얼 믿은 걸까 부족했던 내게서 나조차 못 믿던 여태 머문 사람 무얼 봤던 걸까 가...</td>\n",
              "      <td>0.666667</td>\n",
              "      <td>0.333333</td>\n",
              "      <td>0.500000</td>\n",
              "      <td>1</td>\n",
              "    </tr>\n",
              "    <tr>\n",
              "      <th>27</th>\n",
              "      <td>임영웅</td>\n",
              "      <td>무지개</td>\n",
              "      <td>오늘 하루 어땠었나요 많이 힘들었나요 쉬지 않고 달려왔던 길에서 나와 쉬어가요 그냥...</td>\n",
              "      <td>0.571429</td>\n",
              "      <td>0.307692</td>\n",
              "      <td>0.439560</td>\n",
              "      <td>0</td>\n",
              "    </tr>\n",
              "    <tr>\n",
              "      <th>28</th>\n",
              "      <td>Charlie Puth</td>\n",
              "      <td>I Don't Think That I Like Her</td>\n",
              "      <td>그녀의 이름을 얻고 우리가 공통적으로 가지고 모든 것들을 결코 숫자로 가져가십시오 ...</td>\n",
              "      <td>0.642857</td>\n",
              "      <td>0.500000</td>\n",
              "      <td>0.571429</td>\n",
              "      <td>1</td>\n",
              "    </tr>\n",
              "    <tr>\n",
              "      <th>29</th>\n",
              "      <td>신예영</td>\n",
              "      <td>마지막 사랑</td>\n",
              "      <td>몰랐었어 바램들을 이해한다 믿고만 싶었던 힘들다 고 말 하는 보며 헤어지자 고 말을...</td>\n",
              "      <td>0.400000</td>\n",
              "      <td>0.315789</td>\n",
              "      <td>0.357895</td>\n",
              "      <td>0</td>\n",
              "    </tr>\n",
              "  </tbody>\n",
              "</table>\n",
              "</div>"
            ],
            "text/plain": [
              "                singer                                   title  \\\n",
              "0             NewJeans                                   Ditto   \n",
              "1             NewJeans                                     OMG   \n",
              "2             NewJeans                                Hype boy   \n",
              "3                   태양               VIBE (feat. Jimin of BTS)   \n",
              "4          윤하 (YOUNHA)                                 사건의 지평선   \n",
              "5            투모로우바이투게더                         Sugar Rush Ride   \n",
              "6      부석순 (SEVENTEEN)                     파이팅 해야지 (Feat. 이영지)   \n",
              "7   LE SSERAFIM (르세라핌)                             ANTIFRAGILE   \n",
              "8             NewJeans                               Attention   \n",
              "9                  임영웅                               사랑은 늘 도망가   \n",
              "10           IVE (아이브)                              After LIKE   \n",
              "11     부석순 (SEVENTEEN)             7시에 들어줘 (Feat. Peder Elias)   \n",
              "12           NCT DREAM                                   Candy   \n",
              "13                 임영웅                              London Boy   \n",
              "14     부석순 (SEVENTEEN)                                   LUNCH   \n",
              "15                 임영웅                                Polaroid   \n",
              "16                 임영웅                                우리들의 블루스   \n",
              "17           투모로우바이투게더                     Devil by the Window   \n",
              "18             NCT 127                                   Ay-Yo   \n",
              "19                 임영웅                             다시 만날 수 있을까   \n",
              "20           투모로우바이투게더                               네버랜드를 떠나며   \n",
              "21           IVE (아이브)                               LOVE DIVE   \n",
              "22             (여자)아이들                                    Nxde   \n",
              "23                 이영지  NOT SORRY (Feat. pH-1) (Prod. by Slom)   \n",
              "24           투모로우바이투게더                   Tinnitus (돌멩이가 되고 싶어)   \n",
              "25           투모로우바이투게더           Happy Fools (feat. Coi Leray)   \n",
              "26                 임영웅                               이제 나만 믿어요   \n",
              "27                 임영웅                                     무지개   \n",
              "28        Charlie Puth           I Don't Think That I Like Her   \n",
              "29                 신예영                                  마지막 사랑   \n",
              "\n",
              "                                               lyrics       knu     kosac  \\\n",
              "0   우스 테이에서 미들 수수께끼를 원하지 않습니다 말해줘 백로라고 말하면 하고 말합니다...  0.500000  0.692308   \n",
              "1   노래는 그것 당신에 대해 아이비 만만 힘들 때울 같을 기운도 나지 않을 그것 걱정하...  0.333333  0.437500   \n",
              "2   아기 미쳤다 빠져버리는 은 당신을 느끼게 했습니다 너도 말해줄래 누가 뭐라 든 남들...  0.666667  0.500000   \n",
              "3   말론 표현할 수 없지만 소녀 분위기를 가지고 있다는 것을 알아야 합니다에 미소는 미...  0.642857  0.562500   \n",
              "4   생각이 많은 건 말이야 당연히 해야 할 일이야 나에겐 우리가 순위야 안전한 유리병을...  0.666667  0.357143   \n",
              "5   생각은 숨을 멈췄어 돌아올 다짐 따윈 한순간 풀어 헤쳐져 네겐 가까이 오라 속삭여 ...  0.125000  0.615385   \n",
              "6   파이팅 해야지 파이팅 아뿔싸 일어나야지 아침인데 눈 감았다 뜨니 해가 중천인데 아침...  0.230769  0.454545   \n",
              "7   가시밭길 위로 라이딩은 향상시켰다 거짓으로 가득 찬 파티 가렵지도 않아내 뒤에 말들...  0.461538  0.315789   \n",
              "8   너와 맘이 보이지 한참을 쳐다봐 가까이 다가가 볼 수 있습니다 상용기가 생겼지 이미...  0.833333  0.437500   \n",
              "9   눈물이 난다 길을 걸으면 사람 손길이 생각이 난다 붙잡지 못하고 가슴만 떨었지 아름...  0.444444  0.473684   \n",
              "10  모르지 마음이 날씨처럼 바뀔지 나조차 알 수 없으니 그게 뭐가 중요하니 네게 완전히...  0.777778  0.400000   \n",
              "11  알려줘 오늘 찌뿌둥했던 아침부터 만 원에 놓친 릉 타야만 했었던 러시 워너의 표정 ...  0.375000  0.666667   \n",
              "12  사탕 사실은 오늘 너와의 만남을 정리하고 싶어널 만날 이해해어렵게 맘 정한 거라네 ...  0.333333  0.631579   \n",
              "13  꿈에 그리던 그곳 푸른 바다 위로 닮은 하늘 런던에서 런던에서 드넓은 공원 안에 담...  0.666667  0.428571   \n",
              "14  지구 별다른 우주 상관없어 타임라인 속에 평행하게 있다면 가능할 같아 점심 딜리버리...  0.750000  0.500000   \n",
              "15  별들이 짙던 밤 하늘에 약속한 고백 아직도 맘에 당연하듯 남아 있어요 어제 일같이 ...  0.750000  0.533333   \n",
              "16  잊지는 말아요 했던 날들 눈물이 때면 그대 뒤를 돌아보면 돼요 아프지 말아요 쓸쓸한...  0.428571  0.350000   \n",
              "17  거짓말 거짓말 거짓말 다운 양의 옷에 늑대를 내려놓으십시오 내부에 숨어있을 것입니다...  0.357143  0.400000   \n",
              "18  준비됐니 닥쳐오는 파란 패러다임 경고 속에 영원했던 존재들의 반전 그것 당신을 위해...  0.411765  0.555556   \n",
              "19  위해 것이 없어서 보낼 수밖에 없었고 없이 사는 법을 알지 못해서 순간순간을 울었다...  0.400000  0.350000   \n",
              "20  네버 랜드 사랑 안녕 자유 낙하 별들아 편히 자렴 어디로 가든 전화할 때까지 여긴 ...  0.428571  0.800000   \n",
              "21  궁금해 그건 너도 마찬가지 이거 면 충분해 쫓고 쫓는 놀이 참을 수 없는 이끌림과 ...  0.750000  0.500000   \n",
              "22  생각하는지 누드 시합 당신의 견해를 유발합니다 당신을 상자 밖에서 무례하게 생각합니...  0.416667  0.666667   \n",
              "23  미안해 하나도 하나도 아무것도 미안하지가 않아서 나답게 살아가고픈 것뿐 온 엄마 힙...  0.444444  0.538462   \n",
              "24  그래그래 거리는 소리윙자기야 그냥 되고 싶었다 뜨거운 물건이 되고 싶었습니다 매일 ...  0.444444  0.333333   \n",
              "25  행복한 행복한 행복한 바보 바보 바보 행복할 일은 많은데 할 생각난 없네 언제나 지...  0.590909  0.250000   \n",
              "26  무얼 믿은 걸까 부족했던 내게서 나조차 못 믿던 여태 머문 사람 무얼 봤던 걸까 가...  0.666667  0.333333   \n",
              "27  오늘 하루 어땠었나요 많이 힘들었나요 쉬지 않고 달려왔던 길에서 나와 쉬어가요 그냥...  0.571429  0.307692   \n",
              "28  그녀의 이름을 얻고 우리가 공통적으로 가지고 모든 것들을 결코 숫자로 가져가십시오 ...  0.642857  0.500000   \n",
              "29  몰랐었어 바램들을 이해한다 믿고만 싶었던 힘들다 고 말 하는 보며 헤어지자 고 말을...  0.400000  0.315789   \n",
              "\n",
              "      result pos  \n",
              "0   0.596154   1  \n",
              "1   0.385417   0  \n",
              "2   0.583333   1  \n",
              "3   0.602679   1  \n",
              "4   0.511905   1  \n",
              "5   0.370192   0  \n",
              "6   0.342657   0  \n",
              "7   0.388664   0  \n",
              "8   0.635417   1  \n",
              "9   0.459064   0  \n",
              "10  0.588889   1  \n",
              "11  0.520833   1  \n",
              "12  0.482456   0  \n",
              "13  0.547619   1  \n",
              "14  0.625000   1  \n",
              "15  0.641667   1  \n",
              "16  0.389286   0  \n",
              "17  0.378571   0  \n",
              "18  0.483660   0  \n",
              "19  0.375000   0  \n",
              "20  0.614286   1  \n",
              "21  0.625000   1  \n",
              "22  0.541667   1  \n",
              "23  0.491453   0  \n",
              "24  0.388889   0  \n",
              "25  0.420455   0  \n",
              "26  0.500000   1  \n",
              "27  0.439560   0  \n",
              "28  0.571429   1  \n",
              "29  0.357895   0  "
            ]
          },
          "execution_count": 25,
          "metadata": {},
          "output_type": "execute_result"
        }
      ],
      "source": [
        "top30"
      ]
    },
    {
      "cell_type": "code",
      "execution_count": null,
      "metadata": {
        "id": "NmeWcBIDGZF0"
      },
      "outputs": [],
      "source": [
        "top30.to_csv('./data/top30_dict.csv',encoding='utf-8-sig',index=False)"
      ]
    }
  ],
  "metadata": {
    "kernelspec": {
      "display_name": "base",
      "language": "python",
      "name": "python3"
    },
    "language_info": {
      "codemirror_mode": {
        "name": "ipython",
        "version": 3
      },
      "file_extension": ".py",
      "mimetype": "text/x-python",
      "name": "python",
      "nbconvert_exporter": "python",
      "pygments_lexer": "ipython3",
      "version": "3.9.7"
    },
    "orig_nbformat": 4,
    "vscode": {
      "interpreter": {
        "hash": "03489fc23179efc092fdc79729fb3c8c54ada39686063f54d233cd67036aabb7"
      }
    },
    "colab": {
      "provenance": []
    }
  },
  "nbformat": 4,
  "nbformat_minor": 0
}